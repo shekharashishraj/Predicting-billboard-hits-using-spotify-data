{
 "cells": [
  {
   "cell_type": "code",
   "execution_count": 42,
   "id": "93a04fc4",
   "metadata": {},
   "outputs": [],
   "source": [
    "import pandas as pd\n",
    "import numpy as np\n",
    "from sklearn.model_selection import train_test_split\n",
    "from sklearn.svm import SVC\n",
    "from sklearn.ensemble import RandomForestClassifier\n",
    "from sklearn.metrics import accuracy_score"
   ]
  },
  {
   "cell_type": "code",
   "execution_count": 43,
   "id": "3849bcc2",
   "metadata": {},
   "outputs": [
    {
     "data": {
      "text/html": [
       "<div>\n",
       "<style scoped>\n",
       "    .dataframe tbody tr th:only-of-type {\n",
       "        vertical-align: middle;\n",
       "    }\n",
       "\n",
       "    .dataframe tbody tr th {\n",
       "        vertical-align: top;\n",
       "    }\n",
       "\n",
       "    .dataframe thead th {\n",
       "        text-align: right;\n",
       "    }\n",
       "</style>\n",
       "<table border=\"1\" class=\"dataframe\">\n",
       "  <thead>\n",
       "    <tr style=\"text-align: right;\">\n",
       "      <th></th>\n",
       "      <th>Track</th>\n",
       "      <th>Artist</th>\n",
       "      <th>SpotifyID</th>\n",
       "      <th>danceability</th>\n",
       "      <th>energy</th>\n",
       "      <th>key</th>\n",
       "      <th>mode</th>\n",
       "      <th>speechiness</th>\n",
       "      <th>acousticness</th>\n",
       "      <th>instrumentalness</th>\n",
       "      <th>liveness</th>\n",
       "      <th>valence</th>\n",
       "      <th>tempo</th>\n",
       "      <th>duration_ms</th>\n",
       "      <th>loudness</th>\n",
       "    </tr>\n",
       "  </thead>\n",
       "  <tbody>\n",
       "    <tr>\n",
       "      <th>0</th>\n",
       "      <td>Lucid Dreams</td>\n",
       "      <td>Juice WRLD</td>\n",
       "      <td>285pBltuF7vW8TeWk8hdRR</td>\n",
       "      <td>0.511</td>\n",
       "      <td>0.566</td>\n",
       "      <td>6</td>\n",
       "      <td>0</td>\n",
       "      <td>0.200</td>\n",
       "      <td>0.34900</td>\n",
       "      <td>0.0</td>\n",
       "      <td>0.340</td>\n",
       "      <td>0.218</td>\n",
       "      <td>83.903</td>\n",
       "      <td>239836</td>\n",
       "      <td>-7.230</td>\n",
       "    </tr>\n",
       "    <tr>\n",
       "      <th>1</th>\n",
       "      <td>Better Now</td>\n",
       "      <td>Post Malone</td>\n",
       "      <td>7dt6x5M1jzdTEt8oCbisTK</td>\n",
       "      <td>0.680</td>\n",
       "      <td>0.578</td>\n",
       "      <td>10</td>\n",
       "      <td>1</td>\n",
       "      <td>0.040</td>\n",
       "      <td>0.33100</td>\n",
       "      <td>0.0</td>\n",
       "      <td>0.135</td>\n",
       "      <td>0.341</td>\n",
       "      <td>145.038</td>\n",
       "      <td>231267</td>\n",
       "      <td>-5.804</td>\n",
       "    </tr>\n",
       "    <tr>\n",
       "      <th>2</th>\n",
       "      <td>Drip Too Hard</td>\n",
       "      <td>Lil Baby &amp; Gunna</td>\n",
       "      <td>78QR3Wp35dqAhFEc2qAGjE</td>\n",
       "      <td>0.897</td>\n",
       "      <td>0.662</td>\n",
       "      <td>1</td>\n",
       "      <td>0</td>\n",
       "      <td>0.292</td>\n",
       "      <td>0.08520</td>\n",
       "      <td>0.0</td>\n",
       "      <td>0.534</td>\n",
       "      <td>0.389</td>\n",
       "      <td>112.511</td>\n",
       "      <td>145543</td>\n",
       "      <td>-6.903</td>\n",
       "    </tr>\n",
       "    <tr>\n",
       "      <th>3</th>\n",
       "      <td>Sicko Mode</td>\n",
       "      <td>Travis Scott</td>\n",
       "      <td>2xLMifQCjDGFmkHkpNLD9h</td>\n",
       "      <td>0.834</td>\n",
       "      <td>0.730</td>\n",
       "      <td>8</td>\n",
       "      <td>1</td>\n",
       "      <td>0.222</td>\n",
       "      <td>0.00513</td>\n",
       "      <td>0.0</td>\n",
       "      <td>0.124</td>\n",
       "      <td>0.446</td>\n",
       "      <td>155.008</td>\n",
       "      <td>312820</td>\n",
       "      <td>-3.714</td>\n",
       "    </tr>\n",
       "    <tr>\n",
       "      <th>4</th>\n",
       "      <td>Youngblood</td>\n",
       "      <td>5 Seconds Of Summer</td>\n",
       "      <td>2iUXsYOEPhVqEBwsqP70rE</td>\n",
       "      <td>0.596</td>\n",
       "      <td>0.854</td>\n",
       "      <td>7</td>\n",
       "      <td>0</td>\n",
       "      <td>0.463</td>\n",
       "      <td>0.01690</td>\n",
       "      <td>0.0</td>\n",
       "      <td>0.124</td>\n",
       "      <td>0.152</td>\n",
       "      <td>120.274</td>\n",
       "      <td>203418</td>\n",
       "      <td>-5.114</td>\n",
       "    </tr>\n",
       "  </tbody>\n",
       "</table>\n",
       "</div>"
      ],
      "text/plain": [
       "           Track               Artist               SpotifyID  danceability  \\\n",
       "0   Lucid Dreams           Juice WRLD  285pBltuF7vW8TeWk8hdRR         0.511   \n",
       "1     Better Now          Post Malone  7dt6x5M1jzdTEt8oCbisTK         0.680   \n",
       "2  Drip Too Hard     Lil Baby & Gunna  78QR3Wp35dqAhFEc2qAGjE         0.897   \n",
       "3     Sicko Mode         Travis Scott  2xLMifQCjDGFmkHkpNLD9h         0.834   \n",
       "4     Youngblood  5 Seconds Of Summer  2iUXsYOEPhVqEBwsqP70rE         0.596   \n",
       "\n",
       "   energy  key  mode  speechiness  acousticness  instrumentalness  liveness  \\\n",
       "0   0.566    6     0        0.200       0.34900               0.0     0.340   \n",
       "1   0.578   10     1        0.040       0.33100               0.0     0.135   \n",
       "2   0.662    1     0        0.292       0.08520               0.0     0.534   \n",
       "3   0.730    8     1        0.222       0.00513               0.0     0.124   \n",
       "4   0.854    7     0        0.463       0.01690               0.0     0.124   \n",
       "\n",
       "   valence    tempo  duration_ms  loudness  \n",
       "0    0.218   83.903       239836    -7.230  \n",
       "1    0.341  145.038       231267    -5.804  \n",
       "2    0.389  112.511       145543    -6.903  \n",
       "3    0.446  155.008       312820    -3.714  \n",
       "4    0.152  120.274       203418    -5.114  "
      ]
     },
     "execution_count": 43,
     "metadata": {},
     "output_type": "execute_result"
    }
   ],
   "source": [
    "df = pd.read_csv('DataOfSongs.csv')\n",
    "df.head()"
   ]
  },
  {
   "cell_type": "code",
   "execution_count": 44,
   "id": "44366e0a",
   "metadata": {},
   "outputs": [
    {
     "data": {
      "text/html": [
       "<div>\n",
       "<style scoped>\n",
       "    .dataframe tbody tr th:only-of-type {\n",
       "        vertical-align: middle;\n",
       "    }\n",
       "\n",
       "    .dataframe tbody tr th {\n",
       "        vertical-align: top;\n",
       "    }\n",
       "\n",
       "    .dataframe thead th {\n",
       "        text-align: right;\n",
       "    }\n",
       "</style>\n",
       "<table border=\"1\" class=\"dataframe\">\n",
       "  <thead>\n",
       "    <tr style=\"text-align: right;\">\n",
       "      <th></th>\n",
       "      <th>danceability</th>\n",
       "      <th>energy</th>\n",
       "      <th>key</th>\n",
       "      <th>speechiness</th>\n",
       "      <th>acousticness</th>\n",
       "      <th>instrumentalness</th>\n",
       "      <th>liveness</th>\n",
       "      <th>valence</th>\n",
       "      <th>tempo</th>\n",
       "      <th>duration_ms</th>\n",
       "      <th>loudness</th>\n",
       "      <th>hit</th>\n",
       "    </tr>\n",
       "  </thead>\n",
       "  <tbody>\n",
       "    <tr>\n",
       "      <th>0</th>\n",
       "      <td>0.511</td>\n",
       "      <td>0.566</td>\n",
       "      <td>6</td>\n",
       "      <td>0.200</td>\n",
       "      <td>0.34900</td>\n",
       "      <td>0.0</td>\n",
       "      <td>0.340</td>\n",
       "      <td>0.218</td>\n",
       "      <td>83.903</td>\n",
       "      <td>239836</td>\n",
       "      <td>-7.230</td>\n",
       "      <td>0</td>\n",
       "    </tr>\n",
       "    <tr>\n",
       "      <th>1</th>\n",
       "      <td>0.680</td>\n",
       "      <td>0.578</td>\n",
       "      <td>10</td>\n",
       "      <td>0.040</td>\n",
       "      <td>0.33100</td>\n",
       "      <td>0.0</td>\n",
       "      <td>0.135</td>\n",
       "      <td>0.341</td>\n",
       "      <td>145.038</td>\n",
       "      <td>231267</td>\n",
       "      <td>-5.804</td>\n",
       "      <td>1</td>\n",
       "    </tr>\n",
       "    <tr>\n",
       "      <th>2</th>\n",
       "      <td>0.897</td>\n",
       "      <td>0.662</td>\n",
       "      <td>1</td>\n",
       "      <td>0.292</td>\n",
       "      <td>0.08520</td>\n",
       "      <td>0.0</td>\n",
       "      <td>0.534</td>\n",
       "      <td>0.389</td>\n",
       "      <td>112.511</td>\n",
       "      <td>145543</td>\n",
       "      <td>-6.903</td>\n",
       "      <td>0</td>\n",
       "    </tr>\n",
       "    <tr>\n",
       "      <th>3</th>\n",
       "      <td>0.834</td>\n",
       "      <td>0.730</td>\n",
       "      <td>8</td>\n",
       "      <td>0.222</td>\n",
       "      <td>0.00513</td>\n",
       "      <td>0.0</td>\n",
       "      <td>0.124</td>\n",
       "      <td>0.446</td>\n",
       "      <td>155.008</td>\n",
       "      <td>312820</td>\n",
       "      <td>-3.714</td>\n",
       "      <td>1</td>\n",
       "    </tr>\n",
       "    <tr>\n",
       "      <th>4</th>\n",
       "      <td>0.596</td>\n",
       "      <td>0.854</td>\n",
       "      <td>7</td>\n",
       "      <td>0.463</td>\n",
       "      <td>0.01690</td>\n",
       "      <td>0.0</td>\n",
       "      <td>0.124</td>\n",
       "      <td>0.152</td>\n",
       "      <td>120.274</td>\n",
       "      <td>203418</td>\n",
       "      <td>-5.114</td>\n",
       "      <td>0</td>\n",
       "    </tr>\n",
       "  </tbody>\n",
       "</table>\n",
       "</div>"
      ],
      "text/plain": [
       "   danceability  energy  key  speechiness  acousticness  instrumentalness  \\\n",
       "0         0.511   0.566    6        0.200       0.34900               0.0   \n",
       "1         0.680   0.578   10        0.040       0.33100               0.0   \n",
       "2         0.897   0.662    1        0.292       0.08520               0.0   \n",
       "3         0.834   0.730    8        0.222       0.00513               0.0   \n",
       "4         0.596   0.854    7        0.463       0.01690               0.0   \n",
       "\n",
       "   liveness  valence    tempo  duration_ms  loudness  hit  \n",
       "0     0.340    0.218   83.903       239836    -7.230    0  \n",
       "1     0.135    0.341  145.038       231267    -5.804    1  \n",
       "2     0.534    0.389  112.511       145543    -6.903    0  \n",
       "3     0.124    0.446  155.008       312820    -3.714    1  \n",
       "4     0.124    0.152  120.274       203418    -5.114    0  "
      ]
     },
     "execution_count": 44,
     "metadata": {},
     "output_type": "execute_result"
    }
   ],
   "source": [
    "df.pop('Track')\n",
    "df.pop('Artist')\n",
    "df.pop('SpotifyID')\n",
    "df.rename(columns={'mode':'hit'}, inplace = True)\n",
    "target_column = df.pop('hit')\n",
    "df.insert(11,'hit',target_column)\n",
    "df1 = df \n",
    "df1.head()"
   ]
  },
  {
   "cell_type": "code",
   "execution_count": 45,
   "id": "cb6cb579",
   "metadata": {},
   "outputs": [],
   "source": [
    "#X has independent variables\n",
    "X = df.iloc[:,:11]\n",
    "#y has dependent variable\n",
    "y = df.hit"
   ]
  },
  {
   "cell_type": "markdown",
   "id": "20851d1a",
   "metadata": {},
   "source": [
    "split data into train and test data"
   ]
  },
  {
   "cell_type": "code",
   "execution_count": 46,
   "id": "2e1558d8",
   "metadata": {},
   "outputs": [],
   "source": [
    "X_train,X_test,y_train,y_test=train_test_split(X,y,test_size=0.25,random_state=0)"
   ]
  },
  {
   "cell_type": "code",
   "execution_count": 47,
   "id": "db553a96",
   "metadata": {},
   "outputs": [
    {
     "data": {
      "text/plain": [
       "2831     1\n",
       "1380     1\n",
       "15       1\n",
       "7575     0\n",
       "8465     0\n",
       "        ..\n",
       "4859     1\n",
       "3264     1\n",
       "9845     1\n",
       "10799    0\n",
       "2732     0\n",
       "Name: hit, Length: 9069, dtype: int64"
      ]
     },
     "execution_count": 47,
     "metadata": {},
     "output_type": "execute_result"
    }
   ],
   "source": [
    "y_train"
   ]
  },
  {
   "cell_type": "code",
   "execution_count": 48,
   "id": "760b103b",
   "metadata": {},
   "outputs": [
    {
     "data": {
      "text/html": [
       "<div>\n",
       "<style scoped>\n",
       "    .dataframe tbody tr th:only-of-type {\n",
       "        vertical-align: middle;\n",
       "    }\n",
       "\n",
       "    .dataframe tbody tr th {\n",
       "        vertical-align: top;\n",
       "    }\n",
       "\n",
       "    .dataframe thead th {\n",
       "        text-align: right;\n",
       "    }\n",
       "</style>\n",
       "<table border=\"1\" class=\"dataframe\">\n",
       "  <thead>\n",
       "    <tr style=\"text-align: right;\">\n",
       "      <th></th>\n",
       "      <th>danceability</th>\n",
       "      <th>energy</th>\n",
       "      <th>key</th>\n",
       "      <th>speechiness</th>\n",
       "      <th>acousticness</th>\n",
       "      <th>instrumentalness</th>\n",
       "      <th>liveness</th>\n",
       "      <th>valence</th>\n",
       "      <th>tempo</th>\n",
       "      <th>duration_ms</th>\n",
       "      <th>loudness</th>\n",
       "    </tr>\n",
       "  </thead>\n",
       "  <tbody>\n",
       "    <tr>\n",
       "      <th>2831</th>\n",
       "      <td>0.857</td>\n",
       "      <td>0.801</td>\n",
       "      <td>0</td>\n",
       "      <td>0.0618</td>\n",
       "      <td>0.33200</td>\n",
       "      <td>0.000001</td>\n",
       "      <td>0.0789</td>\n",
       "      <td>0.753</td>\n",
       "      <td>96.009</td>\n",
       "      <td>192600</td>\n",
       "      <td>-6.499</td>\n",
       "    </tr>\n",
       "    <tr>\n",
       "      <th>1380</th>\n",
       "      <td>0.583</td>\n",
       "      <td>0.791</td>\n",
       "      <td>11</td>\n",
       "      <td>0.0318</td>\n",
       "      <td>0.00877</td>\n",
       "      <td>0.000000</td>\n",
       "      <td>0.0451</td>\n",
       "      <td>0.878</td>\n",
       "      <td>89.993</td>\n",
       "      <td>172893</td>\n",
       "      <td>-4.087</td>\n",
       "    </tr>\n",
       "    <tr>\n",
       "      <th>15</th>\n",
       "      <td>0.752</td>\n",
       "      <td>0.505</td>\n",
       "      <td>9</td>\n",
       "      <td>0.2530</td>\n",
       "      <td>0.53500</td>\n",
       "      <td>0.000003</td>\n",
       "      <td>0.1040</td>\n",
       "      <td>0.419</td>\n",
       "      <td>91.970</td>\n",
       "      <td>197437</td>\n",
       "      <td>-7.621</td>\n",
       "    </tr>\n",
       "    <tr>\n",
       "      <th>7575</th>\n",
       "      <td>0.346</td>\n",
       "      <td>0.660</td>\n",
       "      <td>4</td>\n",
       "      <td>0.0332</td>\n",
       "      <td>0.01720</td>\n",
       "      <td>0.000038</td>\n",
       "      <td>0.0542</td>\n",
       "      <td>0.595</td>\n",
       "      <td>92.984</td>\n",
       "      <td>279733</td>\n",
       "      <td>-10.276</td>\n",
       "    </tr>\n",
       "    <tr>\n",
       "      <th>8465</th>\n",
       "      <td>0.658</td>\n",
       "      <td>0.675</td>\n",
       "      <td>1</td>\n",
       "      <td>0.3790</td>\n",
       "      <td>0.29900</td>\n",
       "      <td>0.000000</td>\n",
       "      <td>0.3220</td>\n",
       "      <td>0.800</td>\n",
       "      <td>92.877</td>\n",
       "      <td>219053</td>\n",
       "      <td>-9.864</td>\n",
       "    </tr>\n",
       "  </tbody>\n",
       "</table>\n",
       "</div>"
      ],
      "text/plain": [
       "      danceability  energy  key  speechiness  acousticness  instrumentalness  \\\n",
       "2831         0.857   0.801    0       0.0618       0.33200          0.000001   \n",
       "1380         0.583   0.791   11       0.0318       0.00877          0.000000   \n",
       "15           0.752   0.505    9       0.2530       0.53500          0.000003   \n",
       "7575         0.346   0.660    4       0.0332       0.01720          0.000038   \n",
       "8465         0.658   0.675    1       0.3790       0.29900          0.000000   \n",
       "\n",
       "      liveness  valence   tempo  duration_ms  loudness  \n",
       "2831    0.0789    0.753  96.009       192600    -6.499  \n",
       "1380    0.0451    0.878  89.993       172893    -4.087  \n",
       "15      0.1040    0.419  91.970       197437    -7.621  \n",
       "7575    0.0542    0.595  92.984       279733   -10.276  \n",
       "8465    0.3220    0.800  92.877       219053    -9.864  "
      ]
     },
     "execution_count": 48,
     "metadata": {},
     "output_type": "execute_result"
    }
   ],
   "source": [
    "X_train.head()"
   ]
  },
  {
   "cell_type": "markdown",
   "id": "abb29106",
   "metadata": {},
   "source": [
    "SVM"
   ]
  },
  {
   "cell_type": "code",
   "execution_count": 49,
   "id": "ef3a5a37",
   "metadata": {},
   "outputs": [
    {
     "data": {
      "text/plain": [
       "SVC()"
      ]
     },
     "execution_count": 49,
     "metadata": {},
     "output_type": "execute_result"
    }
   ],
   "source": [
    "classifier = SVC(kernel= \"rbf\")\n",
    "classifier.fit(X_train, y_train)"
   ]
  },
  {
   "cell_type": "code",
   "execution_count": 50,
   "id": "e2a4c11f",
   "metadata": {},
   "outputs": [
    {
     "data": {
      "text/plain": [
       "0.6797882897783658"
      ]
     },
     "execution_count": 50,
     "metadata": {},
     "output_type": "execute_result"
    }
   ],
   "source": [
    "#check linear & rbf accuracy\n",
    "y_pred = classifier.predict(X_test)\n",
    "accuracy_score(y_test, y_pred)\n",
    "#0.6797882897783658"
   ]
  },
  {
   "cell_type": "code",
   "execution_count": 51,
   "id": "2b1ed798",
   "metadata": {},
   "outputs": [
    {
     "data": {
      "text/plain": [
       "SVC(kernel='sigmoid')"
      ]
     },
     "execution_count": 51,
     "metadata": {},
     "output_type": "execute_result"
    }
   ],
   "source": [
    "#sigmoid\n",
    "classifier = SVC(kernel= \"sigmoid\")\n",
    "classifier.fit(X_train, y_train)"
   ]
  },
  {
   "cell_type": "code",
   "execution_count": 52,
   "id": "2bcd9113",
   "metadata": {},
   "outputs": [
    {
     "data": {
      "text/plain": [
       "0.5808799206086669"
      ]
     },
     "execution_count": 52,
     "metadata": {},
     "output_type": "execute_result"
    }
   ],
   "source": [
    "#check sigmoid accuracy\n",
    "y_pred = classifier.predict(X_test)\n",
    "accuracy_score(y_test, y_pred)"
   ]
  },
  {
   "cell_type": "markdown",
   "id": "9afc1fa4",
   "metadata": {},
   "source": [
    "Random Forest"
   ]
  },
  {
   "cell_type": "markdown",
   "id": "08947084",
   "metadata": {},
   "source": [
    "split data into train and test data"
   ]
  },
  {
   "cell_type": "code",
   "execution_count": 53,
   "id": "c67f1c38",
   "metadata": {},
   "outputs": [],
   "source": [
    "X_train,X_test,y_train,y_test=train_test_split(X,y,test_size=0.2,random_state=0)"
   ]
  },
  {
   "cell_type": "code",
   "execution_count": 54,
   "id": "874d9cf8",
   "metadata": {},
   "outputs": [
    {
     "data": {
      "text/plain": [
       "RandomForestClassifier(n_estimators=35)"
      ]
     },
     "execution_count": 54,
     "metadata": {},
     "output_type": "execute_result"
    }
   ],
   "source": [
    "model = RandomForestClassifier(n_estimators=35)\n",
    "model.fit(X_train, y_train)"
   ]
  },
  {
   "cell_type": "code",
   "execution_count": 55,
   "id": "5978bb3b",
   "metadata": {},
   "outputs": [
    {
     "data": {
      "text/plain": [
       "0.7271599834642414"
      ]
     },
     "execution_count": 55,
     "metadata": {},
     "output_type": "execute_result"
    }
   ],
   "source": [
    "model.score(X_test, y_test)"
   ]
  },
  {
   "cell_type": "code",
   "execution_count": null,
   "id": "ba0b338e",
   "metadata": {},
   "outputs": [],
   "source": [
    "# random forest is giving more accuracy"
   ]
  }
 ],
 "metadata": {
  "kernelspec": {
   "display_name": "Python 3",
   "language": "python",
   "name": "python3"
  },
  "language_info": {
   "codemirror_mode": {
    "name": "ipython",
    "version": 3
   },
   "file_extension": ".py",
   "mimetype": "text/x-python",
   "name": "python",
   "nbconvert_exporter": "python",
   "pygments_lexer": "ipython3",
   "version": "3.8.8"
  }
 },
 "nbformat": 4,
 "nbformat_minor": 5
}
