{
  "nbformat": 4,
  "nbformat_minor": 0,
  "metadata": {
    "colab": {
      "name": "Random_Forest.ipynb",
      "provenance": [],
      "collapsed_sections": [],
      "include_colab_link": true
    },
    "kernelspec": {
      "display_name": "Python 3",
      "language": "python",
      "name": "python3"
    },
    "language_info": {
      "codemirror_mode": {
        "name": "ipython",
        "version": 3
      },
      "file_extension": ".py",
      "mimetype": "text/x-python",
      "name": "python",
      "nbconvert_exporter": "python",
      "pygments_lexer": "ipython3",
      "version": "3.8.8"
    }
  },
  "cells": [
    {
      "cell_type": "markdown",
      "metadata": {
        "id": "view-in-github",
        "colab_type": "text"
      },
      "source": [
        "<a href=\"https://colab.research.google.com/github/shekharashishraj/Predicting-billboard-hits-using-spotify-data/blob/main/Random_Forest.ipynb\" target=\"_parent\"><img src=\"https://colab.research.google.com/assets/colab-badge.svg\" alt=\"Open In Colab\"/></a>"
      ]
    },
    {
      "cell_type": "code",
      "metadata": {
        "id": "Uw4LSr5oNSFo"
      },
      "source": [
        "import numpy as np\n",
        "import pandas as pd\n",
        "import matplotlib.pyplot as plt\n",
        "import seaborn as sns\n",
        "import warnings\n",
        "import io\n",
        "warnings.filterwarnings('ignore')"
      ],
      "execution_count": null,
      "outputs": []
    },
    {
      "cell_type": "code",
      "metadata": {
        "colab": {
          "resources": {
            "http://localhost:8080/nbextensions/google.colab/files.js": {
              "data": "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",
              "ok": true,
              "headers": [
                [
                  "content-type",
                  "application/javascript"
                ]
              ],
              "status": 200,
              "status_text": ""
            }
          },
          "base_uri": "https://localhost:8080/",
          "height": 74
        },
        "id": "rPsEmYXnNaNN",
        "outputId": "2cc7c9fd-053b-4da6-bdfc-69fe3daa1a87"
      },
      "source": [
        "from google.colab import files\n",
        "uploaded = files.upload()"
      ],
      "execution_count": null,
      "outputs": [
        {
          "output_type": "display_data",
          "data": {
            "text/html": [
              "\n",
              "     <input type=\"file\" id=\"files-14e96e24-6f5f-44b5-8c9b-f46037fe1941\" name=\"files[]\" multiple disabled\n",
              "        style=\"border:none\" />\n",
              "     <output id=\"result-14e96e24-6f5f-44b5-8c9b-f46037fe1941\">\n",
              "      Upload widget is only available when the cell has been executed in the\n",
              "      current browser session. Please rerun this cell to enable.\n",
              "      </output>\n",
              "      <script src=\"/nbextensions/google.colab/files.js\"></script> "
            ],
            "text/plain": [
              "<IPython.core.display.HTML object>"
            ]
          },
          "metadata": {}
        },
        {
          "output_type": "stream",
          "name": "stdout",
          "text": [
            "Saving MSD_Features.csv to MSD_Features (1).csv\n"
          ]
        }
      ]
    },
    {
      "cell_type": "code",
      "metadata": {
        "colab": {
          "base_uri": "https://localhost:8080/",
          "height": 469
        },
        "id": "0aSE8gXaNaPf",
        "outputId": "c81494a0-8656-4bee-b28c-7cd67cff5b5a"
      },
      "source": [
        "#Reading CSV File\n",
        "songs=pd.read_csv(io.StringIO(uploaded['MSD_Features.csv'].decode('utf-8')))\n",
        "songs.head()"
      ],
      "execution_count": null,
      "outputs": [
        {
          "output_type": "execute_result",
          "data": {
            "text/html": [
              "<div>\n",
              "<style scoped>\n",
              "    .dataframe tbody tr th:only-of-type {\n",
              "        vertical-align: middle;\n",
              "    }\n",
              "\n",
              "    .dataframe tbody tr th {\n",
              "        vertical-align: top;\n",
              "    }\n",
              "\n",
              "    .dataframe thead th {\n",
              "        text-align: right;\n",
              "    }\n",
              "</style>\n",
              "<table border=\"1\" class=\"dataframe\">\n",
              "  <thead>\n",
              "    <tr style=\"text-align: right;\">\n",
              "      <th></th>\n",
              "      <th>0</th>\n",
              "      <th>1</th>\n",
              "      <th>2</th>\n",
              "      <th>3</th>\n",
              "      <th>4</th>\n",
              "      <th>5</th>\n",
              "      <th>danceability</th>\n",
              "      <th>energy</th>\n",
              "      <th>key</th>\n",
              "      <th>loudness</th>\n",
              "      <th>mode</th>\n",
              "      <th>speechiness</th>\n",
              "      <th>acousticness</th>\n",
              "      <th>instrumentalness</th>\n",
              "      <th>liveness</th>\n",
              "      <th>valence</th>\n",
              "      <th>tempo</th>\n",
              "      <th>duration_ms</th>\n",
              "    </tr>\n",
              "  </thead>\n",
              "  <tbody>\n",
              "    <tr>\n",
              "      <th>0</th>\n",
              "      <td>Sonora Santanera</td>\n",
              "      <td>Las Numero 1 De La Sonora Santanera</td>\n",
              "      <td>Amor De Cabaret</td>\n",
              "      <td>2016</td>\n",
              "      <td>TRAAADZ128F9348C2E</td>\n",
              "      <td>5JeyXbf7CrVQ8DqwFikN0P</td>\n",
              "      <td>0.699</td>\n",
              "      <td>0.519</td>\n",
              "      <td>8</td>\n",
              "      <td>-6.422</td>\n",
              "      <td>1</td>\n",
              "      <td>0.0290</td>\n",
              "      <td>0.689000</td>\n",
              "      <td>0.000471</td>\n",
              "      <td>0.9350</td>\n",
              "      <td>0.676</td>\n",
              "      <td>102.463</td>\n",
              "      <td>183027</td>\n",
              "    </tr>\n",
              "    <tr>\n",
              "      <th>1</th>\n",
              "      <td>JennyAnyKind</td>\n",
              "      <td>I Need You</td>\n",
              "      <td>Young Boy Blues</td>\n",
              "      <td>2000</td>\n",
              "      <td>TRAAAVO128F93133D4</td>\n",
              "      <td>5uN6oY2NGLC6GKoywHKkZA</td>\n",
              "      <td>0.458</td>\n",
              "      <td>0.570</td>\n",
              "      <td>5</td>\n",
              "      <td>-9.159</td>\n",
              "      <td>0</td>\n",
              "      <td>0.0495</td>\n",
              "      <td>0.000055</td>\n",
              "      <td>0.000768</td>\n",
              "      <td>0.0988</td>\n",
              "      <td>0.203</td>\n",
              "      <td>146.609</td>\n",
              "      <td>218907</td>\n",
              "    </tr>\n",
              "    <tr>\n",
              "      <th>2</th>\n",
              "      <td>Casual</td>\n",
              "      <td>Fear Itself</td>\n",
              "      <td>I Didn't Mean To</td>\n",
              "      <td>1994</td>\n",
              "      <td>TRAAAAW128F429D538</td>\n",
              "      <td>01TR6aAKrA2cI3Z0gnCOsu</td>\n",
              "      <td>0.751</td>\n",
              "      <td>0.549</td>\n",
              "      <td>6</td>\n",
              "      <td>-10.508</td>\n",
              "      <td>0</td>\n",
              "      <td>0.4290</td>\n",
              "      <td>0.063000</td>\n",
              "      <td>0.000025</td>\n",
              "      <td>0.1060</td>\n",
              "      <td>0.553</td>\n",
              "      <td>92.224</td>\n",
              "      <td>218933</td>\n",
              "    </tr>\n",
              "    <tr>\n",
              "      <th>3</th>\n",
              "      <td>Jeff And Sheri Easter</td>\n",
              "      <td>Ordinary Day</td>\n",
              "      <td>The Moon And I (Ordinary Day Album Version)</td>\n",
              "      <td>2006</td>\n",
              "      <td>TRAAAMO128F1481E7F</td>\n",
              "      <td>7ERvcsBBYzSHqQQqlI9xAN</td>\n",
              "      <td>0.456</td>\n",
              "      <td>0.472</td>\n",
              "      <td>5</td>\n",
              "      <td>-8.328</td>\n",
              "      <td>1</td>\n",
              "      <td>0.0325</td>\n",
              "      <td>0.706000</td>\n",
              "      <td>0.000005</td>\n",
              "      <td>0.0833</td>\n",
              "      <td>0.286</td>\n",
              "      <td>147.565</td>\n",
              "      <td>267640</td>\n",
              "    </tr>\n",
              "    <tr>\n",
              "      <th>4</th>\n",
              "      <td>Tweeterfriendly Music</td>\n",
              "      <td>Gin &amp; Phonic</td>\n",
              "      <td>Drop of Rain</td>\n",
              "      <td>2003</td>\n",
              "      <td>TRAAAPK128E0786D96</td>\n",
              "      <td>6dfppQDZQ4x3fCs6N89kV3</td>\n",
              "      <td>0.498</td>\n",
              "      <td>0.300</td>\n",
              "      <td>7</td>\n",
              "      <td>-10.716</td>\n",
              "      <td>1</td>\n",
              "      <td>0.0352</td>\n",
              "      <td>0.553000</td>\n",
              "      <td>0.000116</td>\n",
              "      <td>0.0963</td>\n",
              "      <td>0.185</td>\n",
              "      <td>100.315</td>\n",
              "      <td>189560</td>\n",
              "    </tr>\n",
              "  </tbody>\n",
              "</table>\n",
              "</div>"
            ],
            "text/plain": [
              "                       0  ... duration_ms\n",
              "0       Sonora Santanera  ...      183027\n",
              "1           JennyAnyKind  ...      218907\n",
              "2                 Casual  ...      218933\n",
              "3  Jeff And Sheri Easter  ...      267640\n",
              "4  Tweeterfriendly Music  ...      189560\n",
              "\n",
              "[5 rows x 18 columns]"
            ]
          },
          "metadata": {},
          "execution_count": 4
        }
      ]
    },
    {
      "cell_type": "code",
      "metadata": {
        "colab": {
          "base_uri": "https://localhost:8080/",
          "height": 469
        },
        "id": "7Q1IYjBTNaSM",
        "outputId": "b9a09dcc-367e-4e76-d75b-ca253dc293a8"
      },
      "source": [
        "songs.drop(columns=['4'],inplace=True)\n",
        "songs.head()"
      ],
      "execution_count": null,
      "outputs": [
        {
          "output_type": "execute_result",
          "data": {
            "text/html": [
              "<div>\n",
              "<style scoped>\n",
              "    .dataframe tbody tr th:only-of-type {\n",
              "        vertical-align: middle;\n",
              "    }\n",
              "\n",
              "    .dataframe tbody tr th {\n",
              "        vertical-align: top;\n",
              "    }\n",
              "\n",
              "    .dataframe thead th {\n",
              "        text-align: right;\n",
              "    }\n",
              "</style>\n",
              "<table border=\"1\" class=\"dataframe\">\n",
              "  <thead>\n",
              "    <tr style=\"text-align: right;\">\n",
              "      <th></th>\n",
              "      <th>0</th>\n",
              "      <th>1</th>\n",
              "      <th>2</th>\n",
              "      <th>3</th>\n",
              "      <th>5</th>\n",
              "      <th>danceability</th>\n",
              "      <th>energy</th>\n",
              "      <th>key</th>\n",
              "      <th>loudness</th>\n",
              "      <th>mode</th>\n",
              "      <th>speechiness</th>\n",
              "      <th>acousticness</th>\n",
              "      <th>instrumentalness</th>\n",
              "      <th>liveness</th>\n",
              "      <th>valence</th>\n",
              "      <th>tempo</th>\n",
              "      <th>duration_ms</th>\n",
              "    </tr>\n",
              "  </thead>\n",
              "  <tbody>\n",
              "    <tr>\n",
              "      <th>0</th>\n",
              "      <td>Sonora Santanera</td>\n",
              "      <td>Las Numero 1 De La Sonora Santanera</td>\n",
              "      <td>Amor De Cabaret</td>\n",
              "      <td>2016</td>\n",
              "      <td>5JeyXbf7CrVQ8DqwFikN0P</td>\n",
              "      <td>0.699</td>\n",
              "      <td>0.519</td>\n",
              "      <td>8</td>\n",
              "      <td>-6.422</td>\n",
              "      <td>1</td>\n",
              "      <td>0.0290</td>\n",
              "      <td>0.689000</td>\n",
              "      <td>0.000471</td>\n",
              "      <td>0.9350</td>\n",
              "      <td>0.676</td>\n",
              "      <td>102.463</td>\n",
              "      <td>183027</td>\n",
              "    </tr>\n",
              "    <tr>\n",
              "      <th>1</th>\n",
              "      <td>JennyAnyKind</td>\n",
              "      <td>I Need You</td>\n",
              "      <td>Young Boy Blues</td>\n",
              "      <td>2000</td>\n",
              "      <td>5uN6oY2NGLC6GKoywHKkZA</td>\n",
              "      <td>0.458</td>\n",
              "      <td>0.570</td>\n",
              "      <td>5</td>\n",
              "      <td>-9.159</td>\n",
              "      <td>0</td>\n",
              "      <td>0.0495</td>\n",
              "      <td>0.000055</td>\n",
              "      <td>0.000768</td>\n",
              "      <td>0.0988</td>\n",
              "      <td>0.203</td>\n",
              "      <td>146.609</td>\n",
              "      <td>218907</td>\n",
              "    </tr>\n",
              "    <tr>\n",
              "      <th>2</th>\n",
              "      <td>Casual</td>\n",
              "      <td>Fear Itself</td>\n",
              "      <td>I Didn't Mean To</td>\n",
              "      <td>1994</td>\n",
              "      <td>01TR6aAKrA2cI3Z0gnCOsu</td>\n",
              "      <td>0.751</td>\n",
              "      <td>0.549</td>\n",
              "      <td>6</td>\n",
              "      <td>-10.508</td>\n",
              "      <td>0</td>\n",
              "      <td>0.4290</td>\n",
              "      <td>0.063000</td>\n",
              "      <td>0.000025</td>\n",
              "      <td>0.1060</td>\n",
              "      <td>0.553</td>\n",
              "      <td>92.224</td>\n",
              "      <td>218933</td>\n",
              "    </tr>\n",
              "    <tr>\n",
              "      <th>3</th>\n",
              "      <td>Jeff And Sheri Easter</td>\n",
              "      <td>Ordinary Day</td>\n",
              "      <td>The Moon And I (Ordinary Day Album Version)</td>\n",
              "      <td>2006</td>\n",
              "      <td>7ERvcsBBYzSHqQQqlI9xAN</td>\n",
              "      <td>0.456</td>\n",
              "      <td>0.472</td>\n",
              "      <td>5</td>\n",
              "      <td>-8.328</td>\n",
              "      <td>1</td>\n",
              "      <td>0.0325</td>\n",
              "      <td>0.706000</td>\n",
              "      <td>0.000005</td>\n",
              "      <td>0.0833</td>\n",
              "      <td>0.286</td>\n",
              "      <td>147.565</td>\n",
              "      <td>267640</td>\n",
              "    </tr>\n",
              "    <tr>\n",
              "      <th>4</th>\n",
              "      <td>Tweeterfriendly Music</td>\n",
              "      <td>Gin &amp; Phonic</td>\n",
              "      <td>Drop of Rain</td>\n",
              "      <td>2003</td>\n",
              "      <td>6dfppQDZQ4x3fCs6N89kV3</td>\n",
              "      <td>0.498</td>\n",
              "      <td>0.300</td>\n",
              "      <td>7</td>\n",
              "      <td>-10.716</td>\n",
              "      <td>1</td>\n",
              "      <td>0.0352</td>\n",
              "      <td>0.553000</td>\n",
              "      <td>0.000116</td>\n",
              "      <td>0.0963</td>\n",
              "      <td>0.185</td>\n",
              "      <td>100.315</td>\n",
              "      <td>189560</td>\n",
              "    </tr>\n",
              "  </tbody>\n",
              "</table>\n",
              "</div>"
            ],
            "text/plain": [
              "                       0  ... duration_ms\n",
              "0       Sonora Santanera  ...      183027\n",
              "1           JennyAnyKind  ...      218907\n",
              "2                 Casual  ...      218933\n",
              "3  Jeff And Sheri Easter  ...      267640\n",
              "4  Tweeterfriendly Music  ...      189560\n",
              "\n",
              "[5 rows x 17 columns]"
            ]
          },
          "metadata": {},
          "execution_count": 5
        }
      ]
    },
    {
      "cell_type": "code",
      "metadata": {
        "id": "B6OZPHiSNaT0"
      },
      "source": [
        "songs.rename(columns={'0':'Artist','1':'Album','2':'Track','3':'year','5':'ID'},inplace=True)"
      ],
      "execution_count": null,
      "outputs": []
    },
    {
      "cell_type": "code",
      "metadata": {
        "colab": {
          "base_uri": "https://localhost:8080/",
          "height": 842
        },
        "id": "MyIoF8GVNaXF",
        "outputId": "4199a8a9-a271-4727-8738-cdc9a7893cbd"
      },
      "source": [
        "songs"
      ],
      "execution_count": null,
      "outputs": [
        {
          "output_type": "execute_result",
          "data": {
            "text/html": [
              "<div>\n",
              "<style scoped>\n",
              "    .dataframe tbody tr th:only-of-type {\n",
              "        vertical-align: middle;\n",
              "    }\n",
              "\n",
              "    .dataframe tbody tr th {\n",
              "        vertical-align: top;\n",
              "    }\n",
              "\n",
              "    .dataframe thead th {\n",
              "        text-align: right;\n",
              "    }\n",
              "</style>\n",
              "<table border=\"1\" class=\"dataframe\">\n",
              "  <thead>\n",
              "    <tr style=\"text-align: right;\">\n",
              "      <th></th>\n",
              "      <th>Artist</th>\n",
              "      <th>Album</th>\n",
              "      <th>Track</th>\n",
              "      <th>year</th>\n",
              "      <th>ID</th>\n",
              "      <th>danceability</th>\n",
              "      <th>energy</th>\n",
              "      <th>key</th>\n",
              "      <th>loudness</th>\n",
              "      <th>mode</th>\n",
              "      <th>speechiness</th>\n",
              "      <th>acousticness</th>\n",
              "      <th>instrumentalness</th>\n",
              "      <th>liveness</th>\n",
              "      <th>valence</th>\n",
              "      <th>tempo</th>\n",
              "      <th>duration_ms</th>\n",
              "    </tr>\n",
              "  </thead>\n",
              "  <tbody>\n",
              "    <tr>\n",
              "      <th>0</th>\n",
              "      <td>Sonora Santanera</td>\n",
              "      <td>Las Numero 1 De La Sonora Santanera</td>\n",
              "      <td>Amor De Cabaret</td>\n",
              "      <td>2016</td>\n",
              "      <td>5JeyXbf7CrVQ8DqwFikN0P</td>\n",
              "      <td>0.699</td>\n",
              "      <td>0.519</td>\n",
              "      <td>8</td>\n",
              "      <td>-6.422</td>\n",
              "      <td>1</td>\n",
              "      <td>0.0290</td>\n",
              "      <td>0.689000</td>\n",
              "      <td>0.000471</td>\n",
              "      <td>0.9350</td>\n",
              "      <td>0.6760</td>\n",
              "      <td>102.463</td>\n",
              "      <td>183027</td>\n",
              "    </tr>\n",
              "    <tr>\n",
              "      <th>1</th>\n",
              "      <td>JennyAnyKind</td>\n",
              "      <td>I Need You</td>\n",
              "      <td>Young Boy Blues</td>\n",
              "      <td>2000</td>\n",
              "      <td>5uN6oY2NGLC6GKoywHKkZA</td>\n",
              "      <td>0.458</td>\n",
              "      <td>0.570</td>\n",
              "      <td>5</td>\n",
              "      <td>-9.159</td>\n",
              "      <td>0</td>\n",
              "      <td>0.0495</td>\n",
              "      <td>0.000055</td>\n",
              "      <td>0.000768</td>\n",
              "      <td>0.0988</td>\n",
              "      <td>0.2030</td>\n",
              "      <td>146.609</td>\n",
              "      <td>218907</td>\n",
              "    </tr>\n",
              "    <tr>\n",
              "      <th>2</th>\n",
              "      <td>Casual</td>\n",
              "      <td>Fear Itself</td>\n",
              "      <td>I Didn't Mean To</td>\n",
              "      <td>1994</td>\n",
              "      <td>01TR6aAKrA2cI3Z0gnCOsu</td>\n",
              "      <td>0.751</td>\n",
              "      <td>0.549</td>\n",
              "      <td>6</td>\n",
              "      <td>-10.508</td>\n",
              "      <td>0</td>\n",
              "      <td>0.4290</td>\n",
              "      <td>0.063000</td>\n",
              "      <td>0.000025</td>\n",
              "      <td>0.1060</td>\n",
              "      <td>0.5530</td>\n",
              "      <td>92.224</td>\n",
              "      <td>218933</td>\n",
              "    </tr>\n",
              "    <tr>\n",
              "      <th>3</th>\n",
              "      <td>Jeff And Sheri Easter</td>\n",
              "      <td>Ordinary Day</td>\n",
              "      <td>The Moon And I (Ordinary Day Album Version)</td>\n",
              "      <td>2006</td>\n",
              "      <td>7ERvcsBBYzSHqQQqlI9xAN</td>\n",
              "      <td>0.456</td>\n",
              "      <td>0.472</td>\n",
              "      <td>5</td>\n",
              "      <td>-8.328</td>\n",
              "      <td>1</td>\n",
              "      <td>0.0325</td>\n",
              "      <td>0.706000</td>\n",
              "      <td>0.000005</td>\n",
              "      <td>0.0833</td>\n",
              "      <td>0.2860</td>\n",
              "      <td>147.565</td>\n",
              "      <td>267640</td>\n",
              "    </tr>\n",
              "    <tr>\n",
              "      <th>4</th>\n",
              "      <td>Tweeterfriendly Music</td>\n",
              "      <td>Gin &amp; Phonic</td>\n",
              "      <td>Drop of Rain</td>\n",
              "      <td>2003</td>\n",
              "      <td>6dfppQDZQ4x3fCs6N89kV3</td>\n",
              "      <td>0.498</td>\n",
              "      <td>0.300</td>\n",
              "      <td>7</td>\n",
              "      <td>-10.716</td>\n",
              "      <td>1</td>\n",
              "      <td>0.0352</td>\n",
              "      <td>0.553000</td>\n",
              "      <td>0.000116</td>\n",
              "      <td>0.0963</td>\n",
              "      <td>0.1850</td>\n",
              "      <td>100.315</td>\n",
              "      <td>189560</td>\n",
              "    </tr>\n",
              "    <tr>\n",
              "      <th>...</th>\n",
              "      <td>...</td>\n",
              "      <td>...</td>\n",
              "      <td>...</td>\n",
              "      <td>...</td>\n",
              "      <td>...</td>\n",
              "      <td>...</td>\n",
              "      <td>...</td>\n",
              "      <td>...</td>\n",
              "      <td>...</td>\n",
              "      <td>...</td>\n",
              "      <td>...</td>\n",
              "      <td>...</td>\n",
              "      <td>...</td>\n",
              "      <td>...</td>\n",
              "      <td>...</td>\n",
              "      <td>...</td>\n",
              "      <td>...</td>\n",
              "    </tr>\n",
              "    <tr>\n",
              "      <th>5598</th>\n",
              "      <td>David Arkenstone</td>\n",
              "      <td>Return Of The Guardians</td>\n",
              "      <td>The Forgotten Lands</td>\n",
              "      <td>1996</td>\n",
              "      <td>7xV2k7FEMtUT4IUu4L87it</td>\n",
              "      <td>0.562</td>\n",
              "      <td>0.525</td>\n",
              "      <td>9</td>\n",
              "      <td>-14.594</td>\n",
              "      <td>1</td>\n",
              "      <td>0.0283</td>\n",
              "      <td>0.456000</td>\n",
              "      <td>0.883000</td>\n",
              "      <td>0.3110</td>\n",
              "      <td>0.7130</td>\n",
              "      <td>141.957</td>\n",
              "      <td>314533</td>\n",
              "    </tr>\n",
              "    <tr>\n",
              "      <th>5599</th>\n",
              "      <td>Moonspell</td>\n",
              "      <td>Sin / Pecado</td>\n",
              "      <td>The Hanged Man</td>\n",
              "      <td>1998</td>\n",
              "      <td>3e0tyTV5FiV1bcYeRjdDz2</td>\n",
              "      <td>0.404</td>\n",
              "      <td>0.636</td>\n",
              "      <td>4</td>\n",
              "      <td>-8.798</td>\n",
              "      <td>0</td>\n",
              "      <td>0.0325</td>\n",
              "      <td>0.064300</td>\n",
              "      <td>0.653000</td>\n",
              "      <td>0.0795</td>\n",
              "      <td>0.0979</td>\n",
              "      <td>140.105</td>\n",
              "      <td>386333</td>\n",
              "    </tr>\n",
              "    <tr>\n",
              "      <th>5600</th>\n",
              "      <td>Seventh Day Slumber</td>\n",
              "      <td>Once Upon A Shattered Life</td>\n",
              "      <td>Shattered Life</td>\n",
              "      <td>2005</td>\n",
              "      <td>2CQwzG5nbS7ys8CHSlavVg</td>\n",
              "      <td>0.406</td>\n",
              "      <td>0.895</td>\n",
              "      <td>2</td>\n",
              "      <td>-5.282</td>\n",
              "      <td>0</td>\n",
              "      <td>0.0563</td>\n",
              "      <td>0.000429</td>\n",
              "      <td>0.000033</td>\n",
              "      <td>0.1200</td>\n",
              "      <td>0.2780</td>\n",
              "      <td>150.326</td>\n",
              "      <td>209693</td>\n",
              "    </tr>\n",
              "    <tr>\n",
              "      <th>5601</th>\n",
              "      <td>It Dies Today</td>\n",
              "      <td>Sirens</td>\n",
              "      <td>One the road (to Damnation)</td>\n",
              "      <td>2006</td>\n",
              "      <td>0MS1NrmBWaCpPLFEXV0VMZ</td>\n",
              "      <td>0.329</td>\n",
              "      <td>0.963</td>\n",
              "      <td>4</td>\n",
              "      <td>-3.501</td>\n",
              "      <td>1</td>\n",
              "      <td>0.1450</td>\n",
              "      <td>0.000019</td>\n",
              "      <td>0.001380</td>\n",
              "      <td>0.2220</td>\n",
              "      <td>0.2050</td>\n",
              "      <td>116.847</td>\n",
              "      <td>179413</td>\n",
              "    </tr>\n",
              "    <tr>\n",
              "      <th>5602</th>\n",
              "      <td>Danny Williams</td>\n",
              "      <td>Collection</td>\n",
              "      <td>The Wonderful World Of The Young</td>\n",
              "      <td>1998</td>\n",
              "      <td>62wqW6Q9eTozrruWPt9Z9i</td>\n",
              "      <td>0.194</td>\n",
              "      <td>0.251</td>\n",
              "      <td>8</td>\n",
              "      <td>-12.959</td>\n",
              "      <td>1</td>\n",
              "      <td>0.0371</td>\n",
              "      <td>0.944000</td>\n",
              "      <td>0.000000</td>\n",
              "      <td>0.0997</td>\n",
              "      <td>0.3100</td>\n",
              "      <td>179.310</td>\n",
              "      <td>169333</td>\n",
              "    </tr>\n",
              "  </tbody>\n",
              "</table>\n",
              "<p>5603 rows × 17 columns</p>\n",
              "</div>"
            ],
            "text/plain": [
              "                     Artist  ... duration_ms\n",
              "0          Sonora Santanera  ...      183027\n",
              "1              JennyAnyKind  ...      218907\n",
              "2                    Casual  ...      218933\n",
              "3     Jeff And Sheri Easter  ...      267640\n",
              "4     Tweeterfriendly Music  ...      189560\n",
              "...                     ...  ...         ...\n",
              "5598       David Arkenstone  ...      314533\n",
              "5599              Moonspell  ...      386333\n",
              "5600    Seventh Day Slumber  ...      209693\n",
              "5601          It Dies Today  ...      179413\n",
              "5602         Danny Williams  ...      169333\n",
              "\n",
              "[5603 rows x 17 columns]"
            ]
          },
          "metadata": {},
          "execution_count": 7
        }
      ]
    },
    {
      "cell_type": "code",
      "metadata": {
        "colab": {
          "base_uri": "https://localhost:8080/"
        },
        "id": "UL-jprCHNaY0",
        "outputId": "69e554c0-6c17-4183-dc58-8380f5a0a621"
      },
      "source": [
        "print(pd.unique(songs['mode']))"
      ],
      "execution_count": null,
      "outputs": [
        {
          "output_type": "stream",
          "name": "stdout",
          "text": [
            "[1 0]\n"
          ]
        }
      ]
    },
    {
      "cell_type": "code",
      "metadata": {
        "colab": {
          "base_uri": "https://localhost:8080/"
        },
        "id": "4UlK3yJzNabv",
        "outputId": "5850b965-5a37-4e03-f376-9c0209667b0f"
      },
      "source": [
        "songs.info()"
      ],
      "execution_count": null,
      "outputs": [
        {
          "output_type": "stream",
          "name": "stdout",
          "text": [
            "<class 'pandas.core.frame.DataFrame'>\n",
            "RangeIndex: 5603 entries, 0 to 5602\n",
            "Data columns (total 17 columns):\n",
            " #   Column            Non-Null Count  Dtype  \n",
            "---  ------            --------------  -----  \n",
            " 0   Artist            5603 non-null   object \n",
            " 1   Album             5603 non-null   object \n",
            " 2   Track             5603 non-null   object \n",
            " 3   year              5603 non-null   int64  \n",
            " 4   ID                5603 non-null   object \n",
            " 5   danceability      5603 non-null   float64\n",
            " 6   energy            5603 non-null   float64\n",
            " 7   key               5603 non-null   int64  \n",
            " 8   loudness          5603 non-null   float64\n",
            " 9   mode              5603 non-null   int64  \n",
            " 10  speechiness       5603 non-null   float64\n",
            " 11  acousticness      5603 non-null   float64\n",
            " 12  instrumentalness  5603 non-null   float64\n",
            " 13  liveness          5603 non-null   float64\n",
            " 14  valence           5603 non-null   float64\n",
            " 15  tempo             5603 non-null   float64\n",
            " 16  duration_ms       5603 non-null   int64  \n",
            "dtypes: float64(9), int64(4), object(4)\n",
            "memory usage: 744.3+ KB\n"
          ]
        }
      ]
    },
    {
      "cell_type": "code",
      "metadata": {
        "colab": {
          "resources": {
            "http://localhost:8080/nbextensions/google.colab/files.js": {
              "data": "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",
              "ok": true,
              "headers": [
                [
                  "content-type",
                  "application/javascript"
                ]
              ],
              "status": 200,
              "status_text": ""
            }
          },
          "base_uri": "https://localhost:8080/",
          "height": 74
        },
        "id": "AW4xE0JqNadW",
        "outputId": "ad9a93d7-2c4d-4201-e38c-2b081af23ed2"
      },
      "source": [
        "from google.colab import files\n",
        "uploaded = files.upload()"
      ],
      "execution_count": null,
      "outputs": [
        {
          "output_type": "display_data",
          "data": {
            "text/html": [
              "\n",
              "     <input type=\"file\" id=\"files-909fbe24-2bfa-41c8-ba67-774b256b532d\" name=\"files[]\" multiple disabled\n",
              "        style=\"border:none\" />\n",
              "     <output id=\"result-909fbe24-2bfa-41c8-ba67-774b256b532d\">\n",
              "      Upload widget is only available when the cell has been executed in the\n",
              "      current browser session. Please rerun this cell to enable.\n",
              "      </output>\n",
              "      <script src=\"/nbextensions/google.colab/files.js\"></script> "
            ],
            "text/plain": [
              "<IPython.core.display.HTML object>"
            ]
          },
          "metadata": {}
        },
        {
          "output_type": "stream",
          "name": "stdout",
          "text": [
            "Saving BillBoard_Features.csv to BillBoard_Features (2).csv\n"
          ]
        }
      ]
    },
    {
      "cell_type": "code",
      "metadata": {
        "colab": {
          "base_uri": "https://localhost:8080/",
          "height": 258
        },
        "id": "EVSfnGWRNagh",
        "outputId": "c9df3300-7f23-4504-8b8f-064e4c7bc59e"
      },
      "source": [
        "#Reading CSV File\n",
        "songs1=pd.read_csv(io.StringIO(uploaded['BillBoard_Features.csv'].decode('utf-8')))\n",
        "songs1.head()"
      ],
      "execution_count": null,
      "outputs": [
        {
          "output_type": "execute_result",
          "data": {
            "text/html": [
              "<div>\n",
              "<style scoped>\n",
              "    .dataframe tbody tr th:only-of-type {\n",
              "        vertical-align: middle;\n",
              "    }\n",
              "\n",
              "    .dataframe tbody tr th {\n",
              "        vertical-align: top;\n",
              "    }\n",
              "\n",
              "    .dataframe thead th {\n",
              "        text-align: right;\n",
              "    }\n",
              "</style>\n",
              "<table border=\"1\" class=\"dataframe\">\n",
              "  <thead>\n",
              "    <tr style=\"text-align: right;\">\n",
              "      <th></th>\n",
              "      <th>Track</th>\n",
              "      <th>Artist</th>\n",
              "      <th>SpotifyID</th>\n",
              "      <th>danceability</th>\n",
              "      <th>energy</th>\n",
              "      <th>key</th>\n",
              "      <th>mode</th>\n",
              "      <th>speechiness</th>\n",
              "      <th>acousticness</th>\n",
              "      <th>instrumentalness</th>\n",
              "      <th>liveness</th>\n",
              "      <th>valence</th>\n",
              "      <th>tempo</th>\n",
              "      <th>duration_ms</th>\n",
              "      <th>loudness</th>\n",
              "    </tr>\n",
              "  </thead>\n",
              "  <tbody>\n",
              "    <tr>\n",
              "      <th>0</th>\n",
              "      <td>Lucid Dreams</td>\n",
              "      <td>Juice WRLD</td>\n",
              "      <td>285pBltuF7vW8TeWk8hdRR</td>\n",
              "      <td>0.511</td>\n",
              "      <td>0.566</td>\n",
              "      <td>6</td>\n",
              "      <td>0</td>\n",
              "      <td>0.200</td>\n",
              "      <td>0.34900</td>\n",
              "      <td>0.0</td>\n",
              "      <td>0.340</td>\n",
              "      <td>0.218</td>\n",
              "      <td>83.903</td>\n",
              "      <td>239836</td>\n",
              "      <td>-7.230</td>\n",
              "    </tr>\n",
              "    <tr>\n",
              "      <th>1</th>\n",
              "      <td>Better Now</td>\n",
              "      <td>Post Malone</td>\n",
              "      <td>7dt6x5M1jzdTEt8oCbisTK</td>\n",
              "      <td>0.680</td>\n",
              "      <td>0.578</td>\n",
              "      <td>10</td>\n",
              "      <td>1</td>\n",
              "      <td>0.040</td>\n",
              "      <td>0.33100</td>\n",
              "      <td>0.0</td>\n",
              "      <td>0.135</td>\n",
              "      <td>0.341</td>\n",
              "      <td>145.038</td>\n",
              "      <td>231267</td>\n",
              "      <td>-5.804</td>\n",
              "    </tr>\n",
              "    <tr>\n",
              "      <th>2</th>\n",
              "      <td>Drip Too Hard</td>\n",
              "      <td>Lil Baby &amp; Gunna</td>\n",
              "      <td>78QR3Wp35dqAhFEc2qAGjE</td>\n",
              "      <td>0.897</td>\n",
              "      <td>0.662</td>\n",
              "      <td>1</td>\n",
              "      <td>0</td>\n",
              "      <td>0.292</td>\n",
              "      <td>0.08520</td>\n",
              "      <td>0.0</td>\n",
              "      <td>0.534</td>\n",
              "      <td>0.389</td>\n",
              "      <td>112.511</td>\n",
              "      <td>145543</td>\n",
              "      <td>-6.903</td>\n",
              "    </tr>\n",
              "    <tr>\n",
              "      <th>3</th>\n",
              "      <td>Sicko Mode</td>\n",
              "      <td>Travis Scott</td>\n",
              "      <td>2xLMifQCjDGFmkHkpNLD9h</td>\n",
              "      <td>0.834</td>\n",
              "      <td>0.730</td>\n",
              "      <td>8</td>\n",
              "      <td>1</td>\n",
              "      <td>0.222</td>\n",
              "      <td>0.00513</td>\n",
              "      <td>0.0</td>\n",
              "      <td>0.124</td>\n",
              "      <td>0.446</td>\n",
              "      <td>155.008</td>\n",
              "      <td>312820</td>\n",
              "      <td>-3.714</td>\n",
              "    </tr>\n",
              "    <tr>\n",
              "      <th>4</th>\n",
              "      <td>Youngblood</td>\n",
              "      <td>5 Seconds Of Summer</td>\n",
              "      <td>2iUXsYOEPhVqEBwsqP70rE</td>\n",
              "      <td>0.596</td>\n",
              "      <td>0.854</td>\n",
              "      <td>7</td>\n",
              "      <td>0</td>\n",
              "      <td>0.463</td>\n",
              "      <td>0.01690</td>\n",
              "      <td>0.0</td>\n",
              "      <td>0.124</td>\n",
              "      <td>0.152</td>\n",
              "      <td>120.274</td>\n",
              "      <td>203418</td>\n",
              "      <td>-5.114</td>\n",
              "    </tr>\n",
              "  </tbody>\n",
              "</table>\n",
              "</div>"
            ],
            "text/plain": [
              "           Track               Artist  ... duration_ms  loudness\n",
              "0   Lucid Dreams           Juice WRLD  ...      239836    -7.230\n",
              "1     Better Now          Post Malone  ...      231267    -5.804\n",
              "2  Drip Too Hard     Lil Baby & Gunna  ...      145543    -6.903\n",
              "3     Sicko Mode         Travis Scott  ...      312820    -3.714\n",
              "4     Youngblood  5 Seconds Of Summer  ...      203418    -5.114\n",
              "\n",
              "[5 rows x 15 columns]"
            ]
          },
          "metadata": {},
          "execution_count": 16
        }
      ]
    },
    {
      "cell_type": "code",
      "metadata": {
        "colab": {
          "base_uri": "https://localhost:8080/",
          "height": 360
        },
        "id": "EJbymahDNaip",
        "outputId": "697e3911-fd3f-44f4-a2ce-82a844236fe7"
      },
      "source": [
        "songs1.rename(columns={'SpotifyID':'ID'},inplace=True)\n",
        "songs1.head()"
      ],
      "execution_count": null,
      "outputs": [
        {
          "data": {
            "text/html": [
              "<div>\n",
              "<style scoped>\n",
              "    .dataframe tbody tr th:only-of-type {\n",
              "        vertical-align: middle;\n",
              "    }\n",
              "\n",
              "    .dataframe tbody tr th {\n",
              "        vertical-align: top;\n",
              "    }\n",
              "\n",
              "    .dataframe thead th {\n",
              "        text-align: right;\n",
              "    }\n",
              "</style>\n",
              "<table border=\"1\" class=\"dataframe\">\n",
              "  <thead>\n",
              "    <tr style=\"text-align: right;\">\n",
              "      <th></th>\n",
              "      <th>Track</th>\n",
              "      <th>Artist</th>\n",
              "      <th>ID</th>\n",
              "      <th>danceability</th>\n",
              "      <th>energy</th>\n",
              "      <th>key</th>\n",
              "      <th>mode</th>\n",
              "      <th>speechiness</th>\n",
              "      <th>acousticness</th>\n",
              "      <th>instrumentalness</th>\n",
              "      <th>liveness</th>\n",
              "      <th>valence</th>\n",
              "      <th>tempo</th>\n",
              "      <th>duration_ms</th>\n",
              "      <th>loudness</th>\n",
              "    </tr>\n",
              "  </thead>\n",
              "  <tbody>\n",
              "    <tr>\n",
              "      <th>0</th>\n",
              "      <td>Lucid Dreams</td>\n",
              "      <td>Juice WRLD</td>\n",
              "      <td>285pBltuF7vW8TeWk8hdRR</td>\n",
              "      <td>0.511</td>\n",
              "      <td>0.566</td>\n",
              "      <td>6</td>\n",
              "      <td>0</td>\n",
              "      <td>0.200</td>\n",
              "      <td>0.34900</td>\n",
              "      <td>0.0</td>\n",
              "      <td>0.340</td>\n",
              "      <td>0.218</td>\n",
              "      <td>83.903</td>\n",
              "      <td>239836</td>\n",
              "      <td>-7.230</td>\n",
              "    </tr>\n",
              "    <tr>\n",
              "      <th>1</th>\n",
              "      <td>Better Now</td>\n",
              "      <td>Post Malone</td>\n",
              "      <td>7dt6x5M1jzdTEt8oCbisTK</td>\n",
              "      <td>0.680</td>\n",
              "      <td>0.578</td>\n",
              "      <td>10</td>\n",
              "      <td>1</td>\n",
              "      <td>0.040</td>\n",
              "      <td>0.33100</td>\n",
              "      <td>0.0</td>\n",
              "      <td>0.135</td>\n",
              "      <td>0.341</td>\n",
              "      <td>145.038</td>\n",
              "      <td>231267</td>\n",
              "      <td>-5.804</td>\n",
              "    </tr>\n",
              "    <tr>\n",
              "      <th>2</th>\n",
              "      <td>Drip Too Hard</td>\n",
              "      <td>Lil Baby &amp; Gunna</td>\n",
              "      <td>78QR3Wp35dqAhFEc2qAGjE</td>\n",
              "      <td>0.897</td>\n",
              "      <td>0.662</td>\n",
              "      <td>1</td>\n",
              "      <td>0</td>\n",
              "      <td>0.292</td>\n",
              "      <td>0.08520</td>\n",
              "      <td>0.0</td>\n",
              "      <td>0.534</td>\n",
              "      <td>0.389</td>\n",
              "      <td>112.511</td>\n",
              "      <td>145543</td>\n",
              "      <td>-6.903</td>\n",
              "    </tr>\n",
              "    <tr>\n",
              "      <th>3</th>\n",
              "      <td>Sicko Mode</td>\n",
              "      <td>Travis Scott</td>\n",
              "      <td>2xLMifQCjDGFmkHkpNLD9h</td>\n",
              "      <td>0.834</td>\n",
              "      <td>0.730</td>\n",
              "      <td>8</td>\n",
              "      <td>1</td>\n",
              "      <td>0.222</td>\n",
              "      <td>0.00513</td>\n",
              "      <td>0.0</td>\n",
              "      <td>0.124</td>\n",
              "      <td>0.446</td>\n",
              "      <td>155.008</td>\n",
              "      <td>312820</td>\n",
              "      <td>-3.714</td>\n",
              "    </tr>\n",
              "    <tr>\n",
              "      <th>4</th>\n",
              "      <td>Youngblood</td>\n",
              "      <td>5 Seconds Of Summer</td>\n",
              "      <td>2iUXsYOEPhVqEBwsqP70rE</td>\n",
              "      <td>0.596</td>\n",
              "      <td>0.854</td>\n",
              "      <td>7</td>\n",
              "      <td>0</td>\n",
              "      <td>0.463</td>\n",
              "      <td>0.01690</td>\n",
              "      <td>0.0</td>\n",
              "      <td>0.124</td>\n",
              "      <td>0.152</td>\n",
              "      <td>120.274</td>\n",
              "      <td>203418</td>\n",
              "      <td>-5.114</td>\n",
              "    </tr>\n",
              "  </tbody>\n",
              "</table>\n",
              "</div>"
            ],
            "text/plain": [
              "           Track               Artist  ... duration_ms  loudness\n",
              "0   Lucid Dreams           Juice WRLD  ...      239836    -7.230\n",
              "1     Better Now          Post Malone  ...      231267    -5.804\n",
              "2  Drip Too Hard     Lil Baby & Gunna  ...      145543    -6.903\n",
              "3     Sicko Mode         Travis Scott  ...      312820    -3.714\n",
              "4     Youngblood  5 Seconds Of Summer  ...      203418    -5.114\n",
              "\n",
              "[5 rows x 15 columns]"
            ]
          },
          "execution_count": 104,
          "metadata": {},
          "output_type": "execute_result"
        }
      ]
    },
    {
      "cell_type": "code",
      "metadata": {
        "colab": {
          "base_uri": "https://localhost:8080/"
        },
        "id": "9awnyrNwNamF",
        "outputId": "d35d7ae4-03b7-46fb-cc33-82f8e23b0edc"
      },
      "source": [
        "print(pd.unique(songs1['mode']))"
      ],
      "execution_count": null,
      "outputs": [
        {
          "output_type": "stream",
          "name": "stdout",
          "text": [
            "[   0    1 -999]\n"
          ]
        }
      ]
    },
    {
      "cell_type": "code",
      "metadata": {
        "colab": {
          "base_uri": "https://localhost:8080/"
        },
        "id": "7dk-Lv_uRhLL",
        "outputId": "9ddedf20-26d3-4cee-ceea-cbb4cca9b5c8"
      },
      "source": [
        "songs1.info()"
      ],
      "execution_count": null,
      "outputs": [
        {
          "output_type": "stream",
          "name": "stdout",
          "text": [
            "<class 'pandas.core.frame.DataFrame'>\n",
            "RangeIndex: 9329 entries, 0 to 9328\n",
            "Data columns (total 15 columns):\n",
            " #   Column            Non-Null Count  Dtype  \n",
            "---  ------            --------------  -----  \n",
            " 0   Track             9328 non-null   object \n",
            " 1   Artist            9327 non-null   object \n",
            " 2   SpotifyID         9329 non-null   object \n",
            " 3   danceability      9329 non-null   float64\n",
            " 4   energy            9329 non-null   float64\n",
            " 5   key               9329 non-null   int64  \n",
            " 6   mode              9329 non-null   int64  \n",
            " 7   speechiness       9329 non-null   float64\n",
            " 8   acousticness      9329 non-null   float64\n",
            " 9   instrumentalness  9329 non-null   float64\n",
            " 10  liveness          9329 non-null   float64\n",
            " 11  valence           9329 non-null   float64\n",
            " 12  tempo             9329 non-null   float64\n",
            " 13  duration_ms       9329 non-null   int64  \n",
            " 14  loudness          9329 non-null   float64\n",
            "dtypes: float64(9), int64(3), object(3)\n",
            "memory usage: 1.1+ MB\n"
          ]
        }
      ]
    },
    {
      "cell_type": "code",
      "metadata": {
        "id": "Strp5xXNRhNp"
      },
      "source": [
        "MSD_Billboard=pd.concat([songs,songs1],axis=0,ignore_index=True)"
      ],
      "execution_count": null,
      "outputs": []
    },
    {
      "cell_type": "code",
      "metadata": {
        "colab": {
          "base_uri": "https://localhost:8080/",
          "height": 842
        },
        "id": "fR4igd6gRhQA",
        "outputId": "8c65fb17-6e5d-4f73-a8a0-c746d6dc4993"
      },
      "source": [
        "MSD_Billboard"
      ],
      "execution_count": null,
      "outputs": [
        {
          "output_type": "execute_result",
          "data": {
            "text/html": [
              "<div>\n",
              "<style scoped>\n",
              "    .dataframe tbody tr th:only-of-type {\n",
              "        vertical-align: middle;\n",
              "    }\n",
              "\n",
              "    .dataframe tbody tr th {\n",
              "        vertical-align: top;\n",
              "    }\n",
              "\n",
              "    .dataframe thead th {\n",
              "        text-align: right;\n",
              "    }\n",
              "</style>\n",
              "<table border=\"1\" class=\"dataframe\">\n",
              "  <thead>\n",
              "    <tr style=\"text-align: right;\">\n",
              "      <th></th>\n",
              "      <th>Artist</th>\n",
              "      <th>Album</th>\n",
              "      <th>Track</th>\n",
              "      <th>year</th>\n",
              "      <th>ID</th>\n",
              "      <th>danceability</th>\n",
              "      <th>energy</th>\n",
              "      <th>key</th>\n",
              "      <th>loudness</th>\n",
              "      <th>mode</th>\n",
              "      <th>speechiness</th>\n",
              "      <th>acousticness</th>\n",
              "      <th>instrumentalness</th>\n",
              "      <th>liveness</th>\n",
              "      <th>valence</th>\n",
              "      <th>tempo</th>\n",
              "      <th>duration_ms</th>\n",
              "      <th>SpotifyID</th>\n",
              "    </tr>\n",
              "  </thead>\n",
              "  <tbody>\n",
              "    <tr>\n",
              "      <th>0</th>\n",
              "      <td>Sonora Santanera</td>\n",
              "      <td>Las Numero 1 De La Sonora Santanera</td>\n",
              "      <td>Amor De Cabaret</td>\n",
              "      <td>2016.0</td>\n",
              "      <td>5JeyXbf7CrVQ8DqwFikN0P</td>\n",
              "      <td>0.699</td>\n",
              "      <td>0.519</td>\n",
              "      <td>8</td>\n",
              "      <td>-6.422</td>\n",
              "      <td>1</td>\n",
              "      <td>0.0290</td>\n",
              "      <td>0.689000</td>\n",
              "      <td>0.000471</td>\n",
              "      <td>0.9350</td>\n",
              "      <td>0.676</td>\n",
              "      <td>102.463</td>\n",
              "      <td>183027</td>\n",
              "      <td>NaN</td>\n",
              "    </tr>\n",
              "    <tr>\n",
              "      <th>1</th>\n",
              "      <td>JennyAnyKind</td>\n",
              "      <td>I Need You</td>\n",
              "      <td>Young Boy Blues</td>\n",
              "      <td>2000.0</td>\n",
              "      <td>5uN6oY2NGLC6GKoywHKkZA</td>\n",
              "      <td>0.458</td>\n",
              "      <td>0.570</td>\n",
              "      <td>5</td>\n",
              "      <td>-9.159</td>\n",
              "      <td>0</td>\n",
              "      <td>0.0495</td>\n",
              "      <td>0.000055</td>\n",
              "      <td>0.000768</td>\n",
              "      <td>0.0988</td>\n",
              "      <td>0.203</td>\n",
              "      <td>146.609</td>\n",
              "      <td>218907</td>\n",
              "      <td>NaN</td>\n",
              "    </tr>\n",
              "    <tr>\n",
              "      <th>2</th>\n",
              "      <td>Casual</td>\n",
              "      <td>Fear Itself</td>\n",
              "      <td>I Didn't Mean To</td>\n",
              "      <td>1994.0</td>\n",
              "      <td>01TR6aAKrA2cI3Z0gnCOsu</td>\n",
              "      <td>0.751</td>\n",
              "      <td>0.549</td>\n",
              "      <td>6</td>\n",
              "      <td>-10.508</td>\n",
              "      <td>0</td>\n",
              "      <td>0.4290</td>\n",
              "      <td>0.063000</td>\n",
              "      <td>0.000025</td>\n",
              "      <td>0.1060</td>\n",
              "      <td>0.553</td>\n",
              "      <td>92.224</td>\n",
              "      <td>218933</td>\n",
              "      <td>NaN</td>\n",
              "    </tr>\n",
              "    <tr>\n",
              "      <th>3</th>\n",
              "      <td>Jeff And Sheri Easter</td>\n",
              "      <td>Ordinary Day</td>\n",
              "      <td>The Moon And I (Ordinary Day Album Version)</td>\n",
              "      <td>2006.0</td>\n",
              "      <td>7ERvcsBBYzSHqQQqlI9xAN</td>\n",
              "      <td>0.456</td>\n",
              "      <td>0.472</td>\n",
              "      <td>5</td>\n",
              "      <td>-8.328</td>\n",
              "      <td>1</td>\n",
              "      <td>0.0325</td>\n",
              "      <td>0.706000</td>\n",
              "      <td>0.000005</td>\n",
              "      <td>0.0833</td>\n",
              "      <td>0.286</td>\n",
              "      <td>147.565</td>\n",
              "      <td>267640</td>\n",
              "      <td>NaN</td>\n",
              "    </tr>\n",
              "    <tr>\n",
              "      <th>4</th>\n",
              "      <td>Tweeterfriendly Music</td>\n",
              "      <td>Gin &amp; Phonic</td>\n",
              "      <td>Drop of Rain</td>\n",
              "      <td>2003.0</td>\n",
              "      <td>6dfppQDZQ4x3fCs6N89kV3</td>\n",
              "      <td>0.498</td>\n",
              "      <td>0.300</td>\n",
              "      <td>7</td>\n",
              "      <td>-10.716</td>\n",
              "      <td>1</td>\n",
              "      <td>0.0352</td>\n",
              "      <td>0.553000</td>\n",
              "      <td>0.000116</td>\n",
              "      <td>0.0963</td>\n",
              "      <td>0.185</td>\n",
              "      <td>100.315</td>\n",
              "      <td>189560</td>\n",
              "      <td>NaN</td>\n",
              "    </tr>\n",
              "    <tr>\n",
              "      <th>...</th>\n",
              "      <td>...</td>\n",
              "      <td>...</td>\n",
              "      <td>...</td>\n",
              "      <td>...</td>\n",
              "      <td>...</td>\n",
              "      <td>...</td>\n",
              "      <td>...</td>\n",
              "      <td>...</td>\n",
              "      <td>...</td>\n",
              "      <td>...</td>\n",
              "      <td>...</td>\n",
              "      <td>...</td>\n",
              "      <td>...</td>\n",
              "      <td>...</td>\n",
              "      <td>...</td>\n",
              "      <td>...</td>\n",
              "      <td>...</td>\n",
              "      <td>...</td>\n",
              "    </tr>\n",
              "    <tr>\n",
              "      <th>14927</th>\n",
              "      <td>The 2 Live Crew</td>\n",
              "      <td>NaN</td>\n",
              "      <td>Me So Horny</td>\n",
              "      <td>NaN</td>\n",
              "      <td>NaN</td>\n",
              "      <td>0.893</td>\n",
              "      <td>0.523</td>\n",
              "      <td>1</td>\n",
              "      <td>-11.157</td>\n",
              "      <td>1</td>\n",
              "      <td>0.0986</td>\n",
              "      <td>0.003360</td>\n",
              "      <td>0.000500</td>\n",
              "      <td>0.0833</td>\n",
              "      <td>0.949</td>\n",
              "      <td>132.737</td>\n",
              "      <td>260441</td>\n",
              "      <td>6rQ9ypCfSRZs2AqqobvXu3</td>\n",
              "    </tr>\n",
              "    <tr>\n",
              "      <th>14928</th>\n",
              "      <td>Technotronic Featuring Felly</td>\n",
              "      <td>NaN</td>\n",
              "      <td>Pump Up The Jam</td>\n",
              "      <td>NaN</td>\n",
              "      <td>NaN</td>\n",
              "      <td>0.867</td>\n",
              "      <td>0.911</td>\n",
              "      <td>10</td>\n",
              "      <td>-7.375</td>\n",
              "      <td>0</td>\n",
              "      <td>0.1150</td>\n",
              "      <td>0.023900</td>\n",
              "      <td>0.000000</td>\n",
              "      <td>0.0491</td>\n",
              "      <td>0.675</td>\n",
              "      <td>124.810</td>\n",
              "      <td>215040</td>\n",
              "      <td>0UAEHlFR79k9CJvknSGUNf</td>\n",
              "    </tr>\n",
              "    <tr>\n",
              "      <th>14929</th>\n",
              "      <td>Mantronix Featuring Wondress</td>\n",
              "      <td>NaN</td>\n",
              "      <td>Got To Have Your Love</td>\n",
              "      <td>NaN</td>\n",
              "      <td>NaN</td>\n",
              "      <td>0.763</td>\n",
              "      <td>0.505</td>\n",
              "      <td>10</td>\n",
              "      <td>-13.669</td>\n",
              "      <td>0</td>\n",
              "      <td>0.0753</td>\n",
              "      <td>0.179000</td>\n",
              "      <td>0.001070</td>\n",
              "      <td>0.0497</td>\n",
              "      <td>0.960</td>\n",
              "      <td>105.632</td>\n",
              "      <td>383333</td>\n",
              "      <td>7MZzwdBfX8Dq0xFLFfxtdJ</td>\n",
              "    </tr>\n",
              "    <tr>\n",
              "      <th>14930</th>\n",
              "      <td>Entouch Featuring Keith Sweat</td>\n",
              "      <td>NaN</td>\n",
              "      <td>All Nite</td>\n",
              "      <td>NaN</td>\n",
              "      <td>NaN</td>\n",
              "      <td>0.834</td>\n",
              "      <td>0.485</td>\n",
              "      <td>11</td>\n",
              "      <td>-13.040</td>\n",
              "      <td>1</td>\n",
              "      <td>0.0453</td>\n",
              "      <td>0.047800</td>\n",
              "      <td>0.000051</td>\n",
              "      <td>0.1030</td>\n",
              "      <td>0.929</td>\n",
              "      <td>107.598</td>\n",
              "      <td>368467</td>\n",
              "      <td>6q989QMsV87X9Em9J6DONi</td>\n",
              "    </tr>\n",
              "    <tr>\n",
              "      <th>14931</th>\n",
              "      <td>Prince With Sheena Easton</td>\n",
              "      <td>NaN</td>\n",
              "      <td>The Arms Of Orion</td>\n",
              "      <td>NaN</td>\n",
              "      <td>NaN</td>\n",
              "      <td>0.604</td>\n",
              "      <td>0.316</td>\n",
              "      <td>2</td>\n",
              "      <td>-14.674</td>\n",
              "      <td>1</td>\n",
              "      <td>0.0302</td>\n",
              "      <td>0.560000</td>\n",
              "      <td>0.000012</td>\n",
              "      <td>0.0905</td>\n",
              "      <td>0.391</td>\n",
              "      <td>129.693</td>\n",
              "      <td>302973</td>\n",
              "      <td>0YcUNHmnt35v7J7amKvgR4</td>\n",
              "    </tr>\n",
              "  </tbody>\n",
              "</table>\n",
              "<p>14932 rows × 18 columns</p>\n",
              "</div>"
            ],
            "text/plain": [
              "                              Artist  ...               SpotifyID\n",
              "0                   Sonora Santanera  ...                     NaN\n",
              "1                       JennyAnyKind  ...                     NaN\n",
              "2                             Casual  ...                     NaN\n",
              "3              Jeff And Sheri Easter  ...                     NaN\n",
              "4              Tweeterfriendly Music  ...                     NaN\n",
              "...                              ...  ...                     ...\n",
              "14927                The 2 Live Crew  ...  6rQ9ypCfSRZs2AqqobvXu3\n",
              "14928   Technotronic Featuring Felly  ...  0UAEHlFR79k9CJvknSGUNf\n",
              "14929   Mantronix Featuring Wondress  ...  7MZzwdBfX8Dq0xFLFfxtdJ\n",
              "14930  Entouch Featuring Keith Sweat  ...  6q989QMsV87X9Em9J6DONi\n",
              "14931      Prince With Sheena Easton  ...  0YcUNHmnt35v7J7amKvgR4\n",
              "\n",
              "[14932 rows x 18 columns]"
            ]
          },
          "metadata": {},
          "execution_count": 20
        }
      ]
    },
    {
      "cell_type": "code",
      "metadata": {
        "colab": {
          "base_uri": "https://localhost:8080/"
        },
        "id": "TNLDVQySRhRw",
        "outputId": "12a7ad15-0094-476d-adea-8cc8b776b9a6"
      },
      "source": [
        "MSD_Billboard.shape"
      ],
      "execution_count": null,
      "outputs": [
        {
          "output_type": "execute_result",
          "data": {
            "text/plain": [
              "(14932, 18)"
            ]
          },
          "metadata": {},
          "execution_count": 21
        }
      ]
    },
    {
      "cell_type": "code",
      "metadata": {
        "id": "zc-Jf1_ORhU9"
      },
      "source": [
        "MSD_Billboard.dropna(subset=['mode'],how='any',inplace=True)"
      ],
      "execution_count": null,
      "outputs": []
    },
    {
      "cell_type": "code",
      "metadata": {
        "colab": {
          "base_uri": "https://localhost:8080/"
        },
        "id": "ChRM3zPoR-wu",
        "outputId": "02b78641-4e52-403d-ba75-38c957990d75"
      },
      "source": [
        "MSD_Billboard1 = MSD_Billboard[MSD_Billboard['mode']!=-999]\n",
        "print('mode values')\n",
        "print(MSD_Billboard1['mode'].value_counts())\n",
        "MSD_Billboard1.shape"
      ],
      "execution_count": null,
      "outputs": [
        {
          "output_type": "stream",
          "name": "stdout",
          "text": [
            "mode values\n",
            "1    10058\n",
            "0     4864\n",
            "Name: mode, dtype: int64\n"
          ]
        },
        {
          "output_type": "execute_result",
          "data": {
            "text/plain": [
              "(14922, 18)"
            ]
          },
          "metadata": {},
          "execution_count": 23
        }
      ]
    },
    {
      "cell_type": "code",
      "metadata": {
        "colab": {
          "base_uri": "https://localhost:8080/"
        },
        "id": "TJqhyeIoR-yZ",
        "outputId": "69137fd4-b769-405c-84de-eb6983f54c5c"
      },
      "source": [
        "print(pd.unique(MSD_Billboard1['mode']))"
      ],
      "execution_count": null,
      "outputs": [
        {
          "output_type": "stream",
          "name": "stdout",
          "text": [
            "[1 0]\n"
          ]
        }
      ]
    },
    {
      "cell_type": "code",
      "metadata": {
        "colab": {
          "base_uri": "https://localhost:8080/"
        },
        "id": "afxUriJnR-2i",
        "outputId": "fe4b6938-ba80-4446-cf36-a4125476737e"
      },
      "source": [
        "(set(MSD_Billboard1['mode']))"
      ],
      "execution_count": null,
      "outputs": [
        {
          "output_type": "execute_result",
          "data": {
            "text/plain": [
              "{0, 1}"
            ]
          },
          "metadata": {},
          "execution_count": 25
        }
      ]
    },
    {
      "cell_type": "code",
      "metadata": {
        "colab": {
          "base_uri": "https://localhost:8080/"
        },
        "id": "gqcJGPh-R-3q",
        "outputId": "e6d9550d-f4b4-4f4f-9cab-4927a82382bc"
      },
      "source": [
        "print(MSD_Billboard1['mode'].value_counts())"
      ],
      "execution_count": null,
      "outputs": [
        {
          "output_type": "stream",
          "name": "stdout",
          "text": [
            "1    10058\n",
            "0     4864\n",
            "Name: mode, dtype: int64\n"
          ]
        }
      ]
    },
    {
      "cell_type": "code",
      "metadata": {
        "colab": {
          "base_uri": "https://localhost:8080/",
          "height": 469
        },
        "id": "yTXWBBMANaqm",
        "outputId": "93bb1faf-efbf-4e87-bfea-df63fc1b5a35"
      },
      "source": [
        "MSD_Billboard1.drop_duplicates(subset='Track',keep=False,inplace=True)\n",
        "MSD_Billboard1.head()"
      ],
      "execution_count": null,
      "outputs": [
        {
          "output_type": "execute_result",
          "data": {
            "text/html": [
              "<div>\n",
              "<style scoped>\n",
              "    .dataframe tbody tr th:only-of-type {\n",
              "        vertical-align: middle;\n",
              "    }\n",
              "\n",
              "    .dataframe tbody tr th {\n",
              "        vertical-align: top;\n",
              "    }\n",
              "\n",
              "    .dataframe thead th {\n",
              "        text-align: right;\n",
              "    }\n",
              "</style>\n",
              "<table border=\"1\" class=\"dataframe\">\n",
              "  <thead>\n",
              "    <tr style=\"text-align: right;\">\n",
              "      <th></th>\n",
              "      <th>Artist</th>\n",
              "      <th>Album</th>\n",
              "      <th>Track</th>\n",
              "      <th>year</th>\n",
              "      <th>ID</th>\n",
              "      <th>danceability</th>\n",
              "      <th>energy</th>\n",
              "      <th>key</th>\n",
              "      <th>loudness</th>\n",
              "      <th>mode</th>\n",
              "      <th>speechiness</th>\n",
              "      <th>acousticness</th>\n",
              "      <th>instrumentalness</th>\n",
              "      <th>liveness</th>\n",
              "      <th>valence</th>\n",
              "      <th>tempo</th>\n",
              "      <th>duration_ms</th>\n",
              "      <th>SpotifyID</th>\n",
              "    </tr>\n",
              "  </thead>\n",
              "  <tbody>\n",
              "    <tr>\n",
              "      <th>0</th>\n",
              "      <td>Sonora Santanera</td>\n",
              "      <td>Las Numero 1 De La Sonora Santanera</td>\n",
              "      <td>Amor De Cabaret</td>\n",
              "      <td>2016.0</td>\n",
              "      <td>5JeyXbf7CrVQ8DqwFikN0P</td>\n",
              "      <td>0.699</td>\n",
              "      <td>0.519</td>\n",
              "      <td>8</td>\n",
              "      <td>-6.422</td>\n",
              "      <td>1</td>\n",
              "      <td>0.0290</td>\n",
              "      <td>0.689000</td>\n",
              "      <td>0.000471</td>\n",
              "      <td>0.9350</td>\n",
              "      <td>0.676</td>\n",
              "      <td>102.463</td>\n",
              "      <td>183027</td>\n",
              "      <td>NaN</td>\n",
              "    </tr>\n",
              "    <tr>\n",
              "      <th>1</th>\n",
              "      <td>JennyAnyKind</td>\n",
              "      <td>I Need You</td>\n",
              "      <td>Young Boy Blues</td>\n",
              "      <td>2000.0</td>\n",
              "      <td>5uN6oY2NGLC6GKoywHKkZA</td>\n",
              "      <td>0.458</td>\n",
              "      <td>0.570</td>\n",
              "      <td>5</td>\n",
              "      <td>-9.159</td>\n",
              "      <td>0</td>\n",
              "      <td>0.0495</td>\n",
              "      <td>0.000055</td>\n",
              "      <td>0.000768</td>\n",
              "      <td>0.0988</td>\n",
              "      <td>0.203</td>\n",
              "      <td>146.609</td>\n",
              "      <td>218907</td>\n",
              "      <td>NaN</td>\n",
              "    </tr>\n",
              "    <tr>\n",
              "      <th>2</th>\n",
              "      <td>Casual</td>\n",
              "      <td>Fear Itself</td>\n",
              "      <td>I Didn't Mean To</td>\n",
              "      <td>1994.0</td>\n",
              "      <td>01TR6aAKrA2cI3Z0gnCOsu</td>\n",
              "      <td>0.751</td>\n",
              "      <td>0.549</td>\n",
              "      <td>6</td>\n",
              "      <td>-10.508</td>\n",
              "      <td>0</td>\n",
              "      <td>0.4290</td>\n",
              "      <td>0.063000</td>\n",
              "      <td>0.000025</td>\n",
              "      <td>0.1060</td>\n",
              "      <td>0.553</td>\n",
              "      <td>92.224</td>\n",
              "      <td>218933</td>\n",
              "      <td>NaN</td>\n",
              "    </tr>\n",
              "    <tr>\n",
              "      <th>3</th>\n",
              "      <td>Jeff And Sheri Easter</td>\n",
              "      <td>Ordinary Day</td>\n",
              "      <td>The Moon And I (Ordinary Day Album Version)</td>\n",
              "      <td>2006.0</td>\n",
              "      <td>7ERvcsBBYzSHqQQqlI9xAN</td>\n",
              "      <td>0.456</td>\n",
              "      <td>0.472</td>\n",
              "      <td>5</td>\n",
              "      <td>-8.328</td>\n",
              "      <td>1</td>\n",
              "      <td>0.0325</td>\n",
              "      <td>0.706000</td>\n",
              "      <td>0.000005</td>\n",
              "      <td>0.0833</td>\n",
              "      <td>0.286</td>\n",
              "      <td>147.565</td>\n",
              "      <td>267640</td>\n",
              "      <td>NaN</td>\n",
              "    </tr>\n",
              "    <tr>\n",
              "      <th>4</th>\n",
              "      <td>Tweeterfriendly Music</td>\n",
              "      <td>Gin &amp; Phonic</td>\n",
              "      <td>Drop of Rain</td>\n",
              "      <td>2003.0</td>\n",
              "      <td>6dfppQDZQ4x3fCs6N89kV3</td>\n",
              "      <td>0.498</td>\n",
              "      <td>0.300</td>\n",
              "      <td>7</td>\n",
              "      <td>-10.716</td>\n",
              "      <td>1</td>\n",
              "      <td>0.0352</td>\n",
              "      <td>0.553000</td>\n",
              "      <td>0.000116</td>\n",
              "      <td>0.0963</td>\n",
              "      <td>0.185</td>\n",
              "      <td>100.315</td>\n",
              "      <td>189560</td>\n",
              "      <td>NaN</td>\n",
              "    </tr>\n",
              "  </tbody>\n",
              "</table>\n",
              "</div>"
            ],
            "text/plain": [
              "                  Artist  ... SpotifyID\n",
              "0       Sonora Santanera  ...       NaN\n",
              "1           JennyAnyKind  ...       NaN\n",
              "2                 Casual  ...       NaN\n",
              "3  Jeff And Sheri Easter  ...       NaN\n",
              "4  Tweeterfriendly Music  ...       NaN\n",
              "\n",
              "[5 rows x 18 columns]"
            ]
          },
          "metadata": {},
          "execution_count": 27
        }
      ]
    },
    {
      "cell_type": "code",
      "metadata": {
        "colab": {
          "base_uri": "https://localhost:8080/"
        },
        "id": "UX11D4ylSPiO",
        "outputId": "97f10189-3795-46ac-e783-8a99578ae434"
      },
      "source": [
        "MSD_Billboard1.shape"
      ],
      "execution_count": null,
      "outputs": [
        {
          "output_type": "execute_result",
          "data": {
            "text/plain": [
              "(12119, 18)"
            ]
          },
          "metadata": {},
          "execution_count": 28
        }
      ]
    },
    {
      "cell_type": "code",
      "metadata": {
        "colab": {
          "base_uri": "https://localhost:8080/"
        },
        "id": "FFEg-MnhSPkU",
        "outputId": "85795c05-6113-498f-c997-a9713286a04a"
      },
      "source": [
        "MSD_Billboard1.isnull().sum()"
      ],
      "execution_count": null,
      "outputs": [
        {
          "output_type": "execute_result",
          "data": {
            "text/plain": [
              "Artist                 2\n",
              "Album               7159\n",
              "Track                  1\n",
              "year                7159\n",
              "ID                  7159\n",
              "danceability           0\n",
              "energy                 0\n",
              "key                    0\n",
              "loudness               0\n",
              "mode                   0\n",
              "speechiness            0\n",
              "acousticness           0\n",
              "instrumentalness       0\n",
              "liveness               0\n",
              "valence                0\n",
              "tempo                  0\n",
              "duration_ms            0\n",
              "SpotifyID           4960\n",
              "dtype: int64"
            ]
          },
          "metadata": {},
          "execution_count": 29
        }
      ]
    },
    {
      "cell_type": "code",
      "metadata": {
        "colab": {
          "base_uri": "https://localhost:8080/"
        },
        "id": "GgyOofELSPnF",
        "outputId": "6119d024-50df-4ecc-e2b7-05c1737a9ac2"
      },
      "source": [
        "MSD_Billboard1.isnull().sum()*100/MSD_Billboard1.shape[0]"
      ],
      "execution_count": null,
      "outputs": [
        {
          "output_type": "execute_result",
          "data": {
            "text/plain": [
              "Artist               0.016503\n",
              "Album               59.072531\n",
              "Track                0.008252\n",
              "year                59.072531\n",
              "ID                  59.072531\n",
              "danceability         0.000000\n",
              "energy               0.000000\n",
              "key                  0.000000\n",
              "loudness             0.000000\n",
              "mode                 0.000000\n",
              "speechiness          0.000000\n",
              "acousticness         0.000000\n",
              "instrumentalness     0.000000\n",
              "liveness             0.000000\n",
              "valence              0.000000\n",
              "tempo                0.000000\n",
              "duration_ms          0.000000\n",
              "SpotifyID           40.927469\n",
              "dtype: float64"
            ]
          },
          "metadata": {},
          "execution_count": 30
        }
      ]
    },
    {
      "cell_type": "code",
      "metadata": {
        "colab": {
          "base_uri": "https://localhost:8080/",
          "height": 347
        },
        "id": "kayZ_VpaSPo7",
        "outputId": "96477935-6883-46ca-a55a-cda6ae2f1ad0"
      },
      "source": [
        "sns.heatmap(MSD_Billboard1.isnull())\n",
        "plt.show()"
      ],
      "execution_count": null,
      "outputs": [
        {
          "output_type": "display_data",
          "data": {
            "image/png": "[encoded data removed]",
            "text/plain": [
              "<Figure size 432x288 with 2 Axes>"
            ]
          },
          "metadata": {
            "needs_background": "light"
          }
        }
      ]
    },
    {
      "cell_type": "code",
      "metadata": {
        "colab": {
          "base_uri": "https://localhost:8080/"
        },
        "id": "lOIi0l6wSPrv",
        "outputId": "c232644f-d215-4733-a444-cb7576a8b38a"
      },
      "source": [
        "MSD_Billboard1.isnull().sum()"
      ],
      "execution_count": null,
      "outputs": [
        {
          "output_type": "execute_result",
          "data": {
            "text/plain": [
              "Artist                 2\n",
              "Album               7159\n",
              "Track                  1\n",
              "ID                  7159\n",
              "danceability           0\n",
              "energy                 0\n",
              "key                    0\n",
              "loudness               0\n",
              "mode                   0\n",
              "speechiness            0\n",
              "acousticness           0\n",
              "instrumentalness       0\n",
              "liveness               0\n",
              "valence                0\n",
              "tempo                  0\n",
              "duration_ms            0\n",
              "SpotifyID           4960\n",
              "dtype: int64"
            ]
          },
          "metadata": {},
          "execution_count": 33
        }
      ]
    },
    {
      "cell_type": "code",
      "metadata": {
        "id": "0T_SgmyBSPtO"
      },
      "source": [
        "MSD_Billboard1.drop(columns=['year'],inplace=True)"
      ],
      "execution_count": null,
      "outputs": []
    },
    {
      "cell_type": "code",
      "metadata": {
        "colab": {
          "base_uri": "https://localhost:8080/"
        },
        "id": "brDkGBpySmLG",
        "outputId": "401cfba7-e22e-4e36-b60c-283bbe1f5d39"
      },
      "source": [
        "MSD_Billboard1.shape"
      ],
      "execution_count": null,
      "outputs": [
        {
          "output_type": "execute_result",
          "data": {
            "text/plain": [
              "(12119, 17)"
            ]
          },
          "metadata": {},
          "execution_count": 34
        }
      ]
    },
    {
      "cell_type": "code",
      "metadata": {
        "colab": {
          "base_uri": "https://localhost:8080/"
        },
        "id": "ocSYHTgJSmOG",
        "outputId": "61912973-dcd5-40de-f9e2-fab443071064"
      },
      "source": [
        "MSD_Billboard1.info()"
      ],
      "execution_count": null,
      "outputs": [
        {
          "output_type": "stream",
          "name": "stdout",
          "text": [
            "<class 'pandas.core.frame.DataFrame'>\n",
            "Int64Index: 12119 entries, 0 to 14931\n",
            "Data columns (total 17 columns):\n",
            " #   Column            Non-Null Count  Dtype  \n",
            "---  ------            --------------  -----  \n",
            " 0   Artist            12117 non-null  object \n",
            " 1   Album             4960 non-null   object \n",
            " 2   Track             12118 non-null  object \n",
            " 3   ID                4960 non-null   object \n",
            " 4   danceability      12119 non-null  float64\n",
            " 5   energy            12119 non-null  float64\n",
            " 6   key               12119 non-null  int64  \n",
            " 7   loudness          12119 non-null  float64\n",
            " 8   mode              12119 non-null  int64  \n",
            " 9   speechiness       12119 non-null  float64\n",
            " 10  acousticness      12119 non-null  float64\n",
            " 11  instrumentalness  12119 non-null  float64\n",
            " 12  liveness          12119 non-null  float64\n",
            " 13  valence           12119 non-null  float64\n",
            " 14  tempo             12119 non-null  float64\n",
            " 15  duration_ms       12119 non-null  int64  \n",
            " 16  SpotifyID         7159 non-null   object \n",
            "dtypes: float64(9), int64(3), object(5)\n",
            "memory usage: 1.7+ MB\n"
          ]
        }
      ]
    },
    {
      "cell_type": "code",
      "metadata": {
        "colab": {
          "base_uri": "https://localhost:8080/"
        },
        "id": "rKD_jChSSmPm",
        "outputId": "285f87cd-c451-4480-9ef2-fb4fd8a04030"
      },
      "source": [
        "MSD_Billboard1.isnull().sum()"
      ],
      "execution_count": null,
      "outputs": [
        {
          "output_type": "execute_result",
          "data": {
            "text/plain": [
              "Artist                 2\n",
              "Album               7159\n",
              "Track                  1\n",
              "ID                  7159\n",
              "danceability           0\n",
              "energy                 0\n",
              "key                    0\n",
              "loudness               0\n",
              "mode                   0\n",
              "speechiness            0\n",
              "acousticness           0\n",
              "instrumentalness       0\n",
              "liveness               0\n",
              "valence                0\n",
              "tempo                  0\n",
              "duration_ms            0\n",
              "SpotifyID           4960\n",
              "dtype: int64"
            ]
          },
          "metadata": {},
          "execution_count": 36
        }
      ]
    },
    {
      "cell_type": "code",
      "metadata": {
        "colab": {
          "base_uri": "https://localhost:8080/"
        },
        "id": "WOib8-jISuqW",
        "outputId": "8eae3a3d-c554-46e8-fae4-9217d0c6f282"
      },
      "source": [
        "MSD_Billboard1.drop_duplicates(subset='ID', keep =False, inplace=True)\n",
        "MSD_Billboard1.shape"
      ],
      "execution_count": null,
      "outputs": [
        {
          "output_type": "execute_result",
          "data": {
            "text/plain": [
              "(4956, 17)"
            ]
          },
          "metadata": {},
          "execution_count": 37
        }
      ]
    },
    {
      "cell_type": "code",
      "metadata": {
        "id": "GPzvqZ3KSu17"
      },
      "source": [
        "from sklearn.model_selection import train_test_split"
      ],
      "execution_count": null,
      "outputs": []
    },
    {
      "cell_type": "code",
      "metadata": {
        "colab": {
          "base_uri": "https://localhost:8080/"
        },
        "id": "kd1A35CRSu7x",
        "outputId": "32269e91-cf76-44cd-eedd-eb9d9ccbf2a1"
      },
      "source": [
        "MSD_Billboard1.columns"
      ],
      "execution_count": null,
      "outputs": [
        {
          "output_type": "execute_result",
          "data": {
            "text/plain": [
              "Index(['Artist', 'Album', 'Track', 'ID', 'danceability', 'energy', 'key',\n",
              "       'loudness', 'mode', 'speechiness', 'acousticness', 'instrumentalness',\n",
              "       'liveness', 'valence', 'tempo', 'duration_ms', 'SpotifyID'],\n",
              "      dtype='object')"
            ]
          },
          "metadata": {},
          "execution_count": 39
        }
      ]
    },
    {
      "cell_type": "code",
      "metadata": {
        "colab": {
          "base_uri": "https://localhost:8080/"
        },
        "id": "aFD4uA4dSu-H",
        "outputId": "31dbf21a-ad1c-4cfb-d58e-94e897293f5d"
      },
      "source": [
        "print(MSD_Billboard1['mode'].value_counts())"
      ],
      "execution_count": null,
      "outputs": [
        {
          "output_type": "stream",
          "name": "stdout",
          "text": [
            "1    3394\n",
            "0    1562\n",
            "Name: mode, dtype: int64\n"
          ]
        }
      ]
    },
    {
      "cell_type": "code",
      "metadata": {
        "colab": {
          "base_uri": "https://localhost:8080/",
          "height": 206
        },
        "id": "tzjyKJR0SmSF",
        "outputId": "b5e0e189-cb83-4210-8f46-0a8c5f0020fb"
      },
      "source": [
        "MSD_Billboard1.pop('ID')\n",
        "MSD_Billboard1.pop('Artist')\n",
        "MSD_Billboard1.pop('Album')\n",
        "MSD_Billboard1.pop('Track')\n",
        "\n",
        "MSD_Billboard1.rename(columns={'mode':'hit'}, inplace = True)\n",
        "target_column = MSD_Billboard1.pop('hit')\n",
        "MSD_Billboard1.insert(11,'hit',target_column)\n",
        "Dff1= MSD_Billboard1\n",
        "Dff1.head()"
      ],
      "execution_count": null,
      "outputs": [
        {
          "output_type": "execute_result",
          "data": {
            "text/html": [
              "<div>\n",
              "<style scoped>\n",
              "    .dataframe tbody tr th:only-of-type {\n",
              "        vertical-align: middle;\n",
              "    }\n",
              "\n",
              "    .dataframe tbody tr th {\n",
              "        vertical-align: top;\n",
              "    }\n",
              "\n",
              "    .dataframe thead th {\n",
              "        text-align: right;\n",
              "    }\n",
              "</style>\n",
              "<table border=\"1\" class=\"dataframe\">\n",
              "  <thead>\n",
              "    <tr style=\"text-align: right;\">\n",
              "      <th></th>\n",
              "      <th>danceability</th>\n",
              "      <th>energy</th>\n",
              "      <th>key</th>\n",
              "      <th>loudness</th>\n",
              "      <th>speechiness</th>\n",
              "      <th>acousticness</th>\n",
              "      <th>instrumentalness</th>\n",
              "      <th>liveness</th>\n",
              "      <th>valence</th>\n",
              "      <th>tempo</th>\n",
              "      <th>duration_ms</th>\n",
              "      <th>hit</th>\n",
              "      <th>SpotifyID</th>\n",
              "    </tr>\n",
              "  </thead>\n",
              "  <tbody>\n",
              "    <tr>\n",
              "      <th>0</th>\n",
              "      <td>0.699</td>\n",
              "      <td>0.519</td>\n",
              "      <td>8</td>\n",
              "      <td>-6.422</td>\n",
              "      <td>0.0290</td>\n",
              "      <td>0.689000</td>\n",
              "      <td>0.000471</td>\n",
              "      <td>0.9350</td>\n",
              "      <td>0.676</td>\n",
              "      <td>102.463</td>\n",
              "      <td>183027</td>\n",
              "      <td>1</td>\n",
              "      <td>NaN</td>\n",
              "    </tr>\n",
              "    <tr>\n",
              "      <th>1</th>\n",
              "      <td>0.458</td>\n",
              "      <td>0.570</td>\n",
              "      <td>5</td>\n",
              "      <td>-9.159</td>\n",
              "      <td>0.0495</td>\n",
              "      <td>0.000055</td>\n",
              "      <td>0.000768</td>\n",
              "      <td>0.0988</td>\n",
              "      <td>0.203</td>\n",
              "      <td>146.609</td>\n",
              "      <td>218907</td>\n",
              "      <td>0</td>\n",
              "      <td>NaN</td>\n",
              "    </tr>\n",
              "    <tr>\n",
              "      <th>2</th>\n",
              "      <td>0.751</td>\n",
              "      <td>0.549</td>\n",
              "      <td>6</td>\n",
              "      <td>-10.508</td>\n",
              "      <td>0.4290</td>\n",
              "      <td>0.063000</td>\n",
              "      <td>0.000025</td>\n",
              "      <td>0.1060</td>\n",
              "      <td>0.553</td>\n",
              "      <td>92.224</td>\n",
              "      <td>218933</td>\n",
              "      <td>0</td>\n",
              "      <td>NaN</td>\n",
              "    </tr>\n",
              "    <tr>\n",
              "      <th>3</th>\n",
              "      <td>0.456</td>\n",
              "      <td>0.472</td>\n",
              "      <td>5</td>\n",
              "      <td>-8.328</td>\n",
              "      <td>0.0325</td>\n",
              "      <td>0.706000</td>\n",
              "      <td>0.000005</td>\n",
              "      <td>0.0833</td>\n",
              "      <td>0.286</td>\n",
              "      <td>147.565</td>\n",
              "      <td>267640</td>\n",
              "      <td>1</td>\n",
              "      <td>NaN</td>\n",
              "    </tr>\n",
              "    <tr>\n",
              "      <th>4</th>\n",
              "      <td>0.498</td>\n",
              "      <td>0.300</td>\n",
              "      <td>7</td>\n",
              "      <td>-10.716</td>\n",
              "      <td>0.0352</td>\n",
              "      <td>0.553000</td>\n",
              "      <td>0.000116</td>\n",
              "      <td>0.0963</td>\n",
              "      <td>0.185</td>\n",
              "      <td>100.315</td>\n",
              "      <td>189560</td>\n",
              "      <td>1</td>\n",
              "      <td>NaN</td>\n",
              "    </tr>\n",
              "  </tbody>\n",
              "</table>\n",
              "</div>"
            ],
            "text/plain": [
              "   danceability  energy  key  loudness  ...    tempo  duration_ms  hit  SpotifyID\n",
              "0         0.699   0.519    8    -6.422  ...  102.463       183027    1        NaN\n",
              "1         0.458   0.570    5    -9.159  ...  146.609       218907    0        NaN\n",
              "2         0.751   0.549    6   -10.508  ...   92.224       218933    0        NaN\n",
              "3         0.456   0.472    5    -8.328  ...  147.565       267640    1        NaN\n",
              "4         0.498   0.300    7   -10.716  ...  100.315       189560    1        NaN\n",
              "\n",
              "[5 rows x 13 columns]"
            ]
          },
          "metadata": {},
          "execution_count": 41
        }
      ]
    },
    {
      "cell_type": "code",
      "metadata": {
        "id": "4egqbt03SPwV"
      },
      "source": [
        "X = Dff1.iloc[:,:11]\n",
        "y = Dff1.hit"
      ],
      "execution_count": null,
      "outputs": []
    },
    {
      "cell_type": "code",
      "metadata": {
        "colab": {
          "base_uri": "https://localhost:8080/"
        },
        "id": "ZABRM4aKSPzR",
        "outputId": "1fb655da-05e2-4b4d-e988-e8c4b0673558"
      },
      "source": [
        "from sklearn.model_selection import train_test_split\n",
        "X_train,X_test,y_train,y_test =train_test_split(X,y,test_size=0.25)\n",
        "y_train.shape\n"
      ],
      "execution_count": null,
      "outputs": [
        {
          "output_type": "execute_result",
          "data": {
            "text/plain": [
              "(3717,)"
            ]
          },
          "metadata": {},
          "execution_count": 43
        }
      ]
    },
    {
      "cell_type": "code",
      "metadata": {
        "colab": {
          "base_uri": "https://localhost:8080/"
        },
        "id": "LfPiyr2WV3oF",
        "outputId": "6ab668e4-cd59-4769-ddb4-eac32944b577"
      },
      "source": [
        "from sklearn import ensemble\n",
        "rf_classifier= ensemble.RandomForestClassifier()\n",
        "rf_classifier.fit(X_train,y_train)\n",
        "rf_classifier.score(X_test,y_test)"
      ],
      "execution_count": null,
      "outputs": [
        {
          "output_type": "execute_result",
          "data": {
            "text/plain": [
              "0.6844229217110573"
            ]
          },
          "metadata": {},
          "execution_count": 44
        }
      ]
    },
    {
      "cell_type": "code",
      "metadata": {
        "colab": {
          "base_uri": "https://localhost:8080/"
        },
        "id": "l3kXzXLmV3qI",
        "outputId": "0a0a1a9a-3093-46f1-8a13-5e9454afcb64"
      },
      "source": [
        "from sklearn.svm import SVC\n",
        "sv_clf=SVC(probability=True)\n",
        "sv_clf.fit(X_train,y_train)\n",
        "sv_clf.score(X_test,y_test)"
      ],
      "execution_count": null,
      "outputs": [
        {
          "output_type": "execute_result",
          "data": {
            "text/plain": [
              "0.6698950766747377"
            ]
          },
          "metadata": {},
          "execution_count": 45
        }
      ]
    },
    {
      "cell_type": "code",
      "metadata": {
        "id": "YLhMooXWV3tJ"
      },
      "source": [
        ""
      ],
      "execution_count": null,
      "outputs": []
    }
  ]
}